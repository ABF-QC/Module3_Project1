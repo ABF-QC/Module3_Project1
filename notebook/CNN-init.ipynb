{
 "cells": [
  {
   "cell_type": "markdown",
   "id": "3927ffd3-5c0a-49fb-ab59-ad54a5701f9e",
   "metadata": {},
   "source": [
    "### Loading necessary libraries"
   ]
  },
  {
   "cell_type": "code",
   "execution_count": 2,
   "id": "7f68d4db-5208-4d16-84ea-0485517c5c05",
   "metadata": {},
   "outputs": [],
   "source": [
    "import os\n",
    "from pathlib import Path\n",
    "import pandas as pd\n",
    "import numpy as np\n",
    "import matplotlib.pyplot as plt\n",
    "from matplotlib.image import imread\n",
    "import seaborn as sns\n",
    "from PIL import Image\n",
    "import glob\n",
    "\n",
    "from tensorflow.keras.preprocessing.image import ImageDataGenerator\n",
    "from tensorflow.keras.models import Sequential\n",
    "from tensorflow.keras.layers import Conv2D, MaxPool2D, Flatten, Dense, Dropout\n",
    "from sklearn.metrics import classification_report\n",
    "\n",
    "from tensorflow.keras.callbacks import ReduceLROnPlateau, EarlyStopping\n",
    "from tensorflow.keras.optimizers import Adam\n",
    "from tensorflow.keras.optimizers import Nadam\n",
    "from tensorflow.keras.regularizers import l2\n",
    "\n",
    "import joblib"
   ]
  },
  {
   "cell_type": "markdown",
   "id": "afdf57b4-8827-4ed0-b5a8-8f80812da2c1",
   "metadata": {},
   "source": [
    "### Defining files' path"
   ]
  },
  {
   "cell_type": "code",
   "execution_count": 4,
   "id": "89025d70-a6db-4604-b460-f13ee3d7b7d7",
   "metadata": {},
   "outputs": [
    {
     "data": {
      "text/plain": [
       "'C:\\\\Users\\\\jocl0\\\\Project1\\\\notebook'"
      ]
     },
     "execution_count": 4,
     "metadata": {},
     "output_type": "execute_result"
    }
   ],
   "source": [
    "os.getcwd()"
   ]
  },
  {
   "cell_type": "code",
   "execution_count": 5,
   "id": "80a3edbe-0cdf-4e73-8779-481d600b34b3",
   "metadata": {},
   "outputs": [],
   "source": [
    "data_dir = 'C:\\\\Users\\\\jocl0\\\\Project1\\\\data\\\\'\n",
    "model_dir = 'C:\\\\Users\\\\jocl0\\\\Project1\\\\notebook\\\\'\n",
    "\n",
    "dir_ = os.listdir(data_dir)\n",
    "\n",
    "model_file = model_dir + 'CNN.joblib'"
   ]
  },
  {
   "cell_type": "code",
   "execution_count": 6,
   "id": "a1d76610-4631-4f9b-9a02-bb203f75e65d",
   "metadata": {},
   "outputs": [
    {
     "data": {
      "text/plain": [
       "['images2predict', 'test', 'train', 'valid']"
      ]
     },
     "execution_count": 6,
     "metadata": {},
     "output_type": "execute_result"
    }
   ],
   "source": [
    "dir_"
   ]
  },
  {
   "cell_type": "markdown",
   "id": "ba270b84-90d5-4bc7-b5de-9ae213d942e9",
   "metadata": {},
   "source": [
    "### Retrieving directories list"
   ]
  },
  {
   "cell_type": "code",
   "execution_count": 8,
   "id": "74a870c3-f8f8-4e47-a3e9-031da2e8cb89",
   "metadata": {},
   "outputs": [],
   "source": [
    "all_dir = dict.fromkeys(dir_)\n",
    "\n",
    "for d in dir_ :\n",
    "    all_dir[d] = glob.glob(data_dir+d+'/*')"
   ]
  },
  {
   "cell_type": "markdown",
   "id": "59146fb6-f19b-4776-81a9-734ff255347c",
   "metadata": {
    "execution": {
     "iopub.execute_input": "2025-03-21T17:31:44.821382Z",
     "iopub.status.busy": "2025-03-21T17:31:44.818885Z",
     "iopub.status.idle": "2025-03-21T17:31:44.836700Z",
     "shell.execute_reply": "2025-03-21T17:31:44.833040Z",
     "shell.execute_reply.started": "2025-03-21T17:31:44.821252Z"
    }
   },
   "source": [
    "### Retrieving data files"
   ]
  },
  {
   "cell_type": "code",
   "execution_count": 10,
   "id": "432de302-d0e5-4522-bd10-c50651661b66",
   "metadata": {},
   "outputs": [],
   "source": [
    "files = dict.fromkeys(dir_)\n",
    "\n",
    "for key in dict.fromkeys(dir_) :\n",
    "    files[key] = []\n",
    "    \n",
    "    for d in range(len(all_dir[key])) :\n",
    "\n",
    "        if key != 'images2predict' :\n",
    "            files[key].extend(glob.glob(all_dir[key][d]+'/*.jpg'))\n",
    "        else :\n",
    "            files[key].append(all_dir[key][d])\n"
   ]
  },
  {
   "cell_type": "markdown",
   "id": "9561d7d6-c8a5-44e3-b5a5-afcfd2dd9031",
   "metadata": {},
   "source": [
    "### Investigate dataset resolution distribution"
   ]
  },
  {
   "cell_type": "raw",
   "id": "79c37932-6ade-4272-92f6-670794a54928",
   "metadata": {
    "scrolled": true
   },
   "source": [
    "for key in dict.fromkeys(dir_) :\n",
    "    # Empty shape list\n",
    "    shape = []\n",
    "\n",
    "    # Empty image list\n",
    "    image_un = []\n",
    "\n",
    "    for file in files[key] :\n",
    "        # Read image file\n",
    "        image = plt.imread(file)\n",
    "\n",
    "        # Add image to image list\n",
    "        image_un.append(image)\n",
    "\n",
    "        shape.append(image.shape)\n",
    "\n",
    "    # Sum the shape\n",
    "    shape_sum = tuple(map(sum, tuple(zip(*shape)))) \n",
    "    shape_median = tuple(np.percentile(dim, 50) for dim in zip(*shape))\n",
    "    shape_per25 = tuple(np.percentile(dim, 25) for dim in zip(*shape))\n",
    "    shape_per75 = tuple(np.percentile(dim, 75) for dim in zip(*shape))\n",
    "    shape_per90 = tuple(np.percentile(dim, 90) for dim in zip(*shape))\n",
    "    shape_min = tuple(map(min, tuple(zip(*shape))))\n",
    "    shape_max = tuple(map(max, tuple(zip(*shape))))\n",
    "\n",
    "    # Calcualting shape average\n",
    "    shape_avg = tuple( i // len(shape) for i in shape_sum)\n",
    "\n",
    "    # Print results\n",
    "    print(f'The average dimensions for images in the {key} folder is {shape_avg}')\n",
    "    print(f'The maximum dimensions for images in the {key} folder is {shape_max}')\n",
    "    print(f'The mimimum dimensions for images in the {key} folder is {shape_min}')\n",
    "    print(f'The median dimensions for images in the {key} folder is {shape_median}')\n",
    "    print(f'The 25th percentile dimensions for images in the {key} folder is {shape_per25}')\n",
    "    print(f'The 75th percentile dimensions for images in the {key} folder is {shape_per75}')\n",
    "    print(f'The 90th percentile dimensions for images in the {key} folder is {shape_per90}\\n\\n')"
   ]
  },
  {
   "cell_type": "markdown",
   "id": "5ba67fd6-1066-4802-bdfa-17ca3103f0da",
   "metadata": {},
   "source": [
    "### Defining the image resolution"
   ]
  },
  {
   "cell_type": "code",
   "execution_count": 13,
   "id": "c8fc5ea2-236e-40e6-b9a4-f4aa6739ad95",
   "metadata": {},
   "outputs": [],
   "source": [
    "res = (224, 224)"
   ]
  },
  {
   "cell_type": "markdown",
   "id": "e369813a-6689-4b1b-965a-6f3d3b9c0730",
   "metadata": {},
   "source": [
    "### Image Augmentation and Scaling"
   ]
  },
  {
   "cell_type": "code",
   "execution_count": 71,
   "id": "ab7e2982-5b28-4d9e-8466-c5523136a8ba",
   "metadata": {},
   "outputs": [],
   "source": [
    "img_gen = ImageDataGenerator(rescale=1./255)\n",
    "\n",
    "img_gen_train = ImageDataGenerator(rescale=1./255, #,\n",
    "                                   rotation_range=10, #20,\n",
    "                                   width_shift_range=0.1, #0.2,\n",
    "                                   height_shift_range=0.1, #0.2,\n",
    "                                   horizontal_flip=True,\n",
    "                                   zoom_range=0.1, #) #0.2)\n",
    "                                   brightness_range=[0.8,1.2],  \n",
    "                                   fill_mode='nearest')\n"
   ]
  },
  {
   "cell_type": "markdown",
   "id": "68836bf2-6ab1-49ef-82ff-6af7a6c4906c",
   "metadata": {},
   "source": [
    "### Apply Image augmentation and scaling to dataset"
   ]
  },
  {
   "cell_type": "code",
   "execution_count": 73,
   "id": "df3d69ed-9720-45fc-9b15-8d9edc632014",
   "metadata": {
    "scrolled": true
   },
   "outputs": [
    {
     "name": "stdout",
     "output_type": "stream",
     "text": [
      "Found 3208 images belonging to 20 classes.\n"
     ]
    },
    {
     "data": {
      "text/plain": [
       "{'ABBOTTS BABBLER': 0,\n",
       " 'ABBOTTS BOOBY': 1,\n",
       " 'ABYSSINIAN GROUND HORNBILL': 2,\n",
       " 'AFRICAN CROWNED CRANE': 3,\n",
       " 'AFRICAN EMERALD CUCKOO': 4,\n",
       " 'AFRICAN FIREFINCH': 5,\n",
       " 'AFRICAN OYSTER CATCHER': 6,\n",
       " 'AFRICAN PIED HORNBILL': 7,\n",
       " 'AFRICAN PYGMY GOOSE': 8,\n",
       " 'ALBATROSS': 9,\n",
       " 'ALBERTS TOWHEE': 10,\n",
       " 'ALEXANDRINE PARAKEET': 11,\n",
       " 'ALPINE CHOUGH': 12,\n",
       " 'ALTAMIRA YELLOWTHROAT': 13,\n",
       " 'AMERICAN AVOCET': 14,\n",
       " 'AMERICAN BITTERN': 15,\n",
       " 'AMERICAN COOT': 16,\n",
       " 'AMERICAN FLAMINGO': 17,\n",
       " 'AMERICAN GOLDFINCH': 18,\n",
       " 'AMERICAN KESTREL': 19}"
      ]
     },
     "execution_count": 73,
     "metadata": {},
     "output_type": "execute_result"
    }
   ],
   "source": [
    "train_data = img_gen_train.flow_from_directory(data_dir+'train',\n",
    "                                               target_size=res, \n",
    "                                               batch_size=32, \n",
    "                                               class_mode='categorical',\n",
    "                                               shuffle=True)\n",
    "\n",
    "train_data.class_indices"
   ]
  },
  {
   "cell_type": "code",
   "execution_count": 137,
   "id": "055fe509-0c5c-4fd3-a4e1-2edbd6ddf250",
   "metadata": {},
   "outputs": [
    {
     "name": "stdout",
     "output_type": "stream",
     "text": [
      "Found 100 images belonging to 20 classes.\n"
     ]
    },
    {
     "data": {
      "text/plain": [
       "{'ABBOTTS BABBLER': 0,\n",
       " 'ABBOTTS BOOBY': 1,\n",
       " 'ABYSSINIAN GROUND HORNBILL': 2,\n",
       " 'AFRICAN CROWNED CRANE': 3,\n",
       " 'AFRICAN EMERALD CUCKOO': 4,\n",
       " 'AFRICAN FIREFINCH': 5,\n",
       " 'AFRICAN OYSTER CATCHER': 6,\n",
       " 'AFRICAN PIED HORNBILL': 7,\n",
       " 'AFRICAN PYGMY GOOSE': 8,\n",
       " 'ALBATROSS': 9,\n",
       " 'ALBERTS TOWHEE': 10,\n",
       " 'ALEXANDRINE PARAKEET': 11,\n",
       " 'ALPINE CHOUGH': 12,\n",
       " 'ALTAMIRA YELLOWTHROAT': 13,\n",
       " 'AMERICAN AVOCET': 14,\n",
       " 'AMERICAN BITTERN': 15,\n",
       " 'AMERICAN COOT': 16,\n",
       " 'AMERICAN FLAMINGO': 17,\n",
       " 'AMERICAN GOLDFINCH': 18,\n",
       " 'AMERICAN KESTREL': 19}"
      ]
     },
     "execution_count": 137,
     "metadata": {},
     "output_type": "execute_result"
    }
   ],
   "source": [
    "val_data = img_gen.flow_from_directory(data_dir+'test',\n",
    "                                       target_size=res, \n",
    "                                       batch_size=1, \n",
    "                                       shuffle=False,\n",
    "                                       class_mode='categorical')\n",
    "\n",
    "val_data.class_indices"
   ]
  },
  {
   "cell_type": "code",
   "execution_count": 19,
   "id": "b25b643a-0912-40a8-a395-82ce825bd49c",
   "metadata": {},
   "outputs": [
    {
     "name": "stdout",
     "output_type": "stream",
     "text": [
      "Found 100 images belonging to 20 classes.\n"
     ]
    },
    {
     "data": {
      "text/plain": [
       "{'ABBOTTS BABBLER': 0,\n",
       " 'ABBOTTS BOOBY': 1,\n",
       " 'ABYSSINIAN GROUND HORNBILL': 2,\n",
       " 'AFRICAN CROWNED CRANE': 3,\n",
       " 'AFRICAN EMERALD CUCKOO': 4,\n",
       " 'AFRICAN FIREFINCH': 5,\n",
       " 'AFRICAN OYSTER CATCHER': 6,\n",
       " 'AFRICAN PIED HORNBILL': 7,\n",
       " 'AFRICAN PYGMY GOOSE': 8,\n",
       " 'ALBATROSS': 9,\n",
       " 'ALBERTS TOWHEE': 10,\n",
       " 'ALEXANDRINE PARAKEET': 11,\n",
       " 'ALPINE CHOUGH': 12,\n",
       " 'ALTAMIRA YELLOWTHROAT': 13,\n",
       " 'AMERICAN AVOCET': 14,\n",
       " 'AMERICAN BITTERN': 15,\n",
       " 'AMERICAN COOT': 16,\n",
       " 'AMERICAN FLAMINGO': 17,\n",
       " 'AMERICAN GOLDFINCH': 18,\n",
       " 'AMERICAN KESTREL': 19}"
      ]
     },
     "execution_count": 19,
     "metadata": {},
     "output_type": "execute_result"
    }
   ],
   "source": [
    "test_data = img_gen.flow_from_directory(data_dir+'valid',\n",
    "                                       target_size=res, \n",
    "                                       batch_size=1, \n",
    "                                       shuffle=False,\n",
    "                                       class_mode='categorical')\n",
    "\n",
    "test_data.class_indices"
   ]
  },
  {
   "cell_type": "code",
   "execution_count": 20,
   "id": "ab18ba48-ccb5-4808-b5ca-c6ab4dca053f",
   "metadata": {},
   "outputs": [
    {
     "name": "stdout",
     "output_type": "stream",
     "text": [
      "Found 6 images belonging to 1 classes.\n"
     ]
    },
    {
     "data": {
      "text/plain": [
       "{'dum': 0}"
      ]
     },
     "execution_count": 20,
     "metadata": {},
     "output_type": "execute_result"
    }
   ],
   "source": [
    "pred_data = img_gen.flow_from_directory(data_dir+'images2predict',\n",
    "                                       target_size=res, \n",
    "                                       batch_size=1, \n",
    "                                       shuffle=False,\n",
    "                                       class_mode=None)\n",
    "\n",
    "pred_data.class_indices"
   ]
  },
  {
   "cell_type": "markdown",
   "id": "64b28e48-5e5b-4576-be11-12a7adb23008",
   "metadata": {},
   "source": [
    "### Load model if it already exists"
   ]
  },
  {
   "cell_type": "code",
   "execution_count": 22,
   "id": "c275ea8a-291e-4f8a-b62c-8db449b288cf",
   "metadata": {},
   "outputs": [],
   "source": [
    "if os.path.exists(model_file) :\n",
    "    cnn = joblib.load('../model/CNN.joblib')\n",
    "    img_gen = joblib.load('../model/CNN_img_gen.joblib')\n",
    "    print('Model exists')"
   ]
  },
  {
   "cell_type": "markdown",
   "id": "b95e1da0-fbb6-4340-91de-439cab57aaaa",
   "metadata": {},
   "source": [
    "### Define model if it does not already exist"
   ]
  },
  {
   "cell_type": "raw",
   "id": "1d47540c-367e-4f17-9eeb-305e189f49dc",
   "metadata": {},
   "source": [
    "if not os.path.exists(model_file) :\n",
    "    print('Model does not exists')\n",
    "\n",
    "    cnn = Sequential()\n",
    "    \n",
    "    cnn.add(Conv2D(filters=16,kernel_size=(10,10), padding='valid',activation='relu',input_shape=(res[0],res[1],3)))#, kernel_regularizer=l2(0.015))\n",
    "    cnn.add(BatchNormalization())\n",
    "    #cnn.add(MaxPool2D(pool_size=(2,2), strides=2))\n",
    "\n",
    "    cnn.add(Conv2D(filters=32,kernel_size=(7,7), padding='same',activation='relu'))#, kernel_regularizer=l2(0.015))\n",
    "    cnn.add(BatchNormalization())\n",
    "    #cnn.add(MaxPool2D(pool_size=(2,2), strides=2))\n",
    "\n",
    "    cnn.add(Conv2D(filters=64, kernel_size=(5,5), padding='same', activation='relu'))#, kernel_regularizer=l2(0.01))\n",
    "    cnn.add(BatchNormalization())\n",
    "\n",
    "    cnn.add(Conv2D(filters=64, kernel_size=(3,3), activation='relu', padding='same'))#, kernel_regularizer=l2(0.015))\n",
    "    cnn.add(BatchNormalization())\n",
    "    #cnn.add(MaxPool2D(pool_size=(2,2), strides=2))\n",
    "\n",
    "    cnn.add(Conv2D(filters=128, kernel_size=(3,3), strides=2, activation='relu', padding='same'))#, kernel_regularizer=l2(0.015))\n",
    "    cnn.add(BatchNormalization())\n",
    "    #cnn.add(MaxPool2D(pool_size=(2,2), strides=2))\n",
    "\n",
    "    cnn.add(Conv2D(filters=256, kernel_size=(3,3), strides=2, activation='relu', padding='same'))#, kernel_regularizer=l2(0.015))\n",
    "    cnn.add(BatchNormalization())\n",
    "    #cnn.add(MaxPool2D(pool_size=(2,2), strides=2))\n",
    "\n",
    "    cnn.add(Flatten())\n",
    "    cnn.add(Dense(128, activation='relu'))\n",
    "\n",
    "    cnn.add(Dropout(rate= 0.2)) #0.2\n",
    "\n",
    "    cnn.add(Dense(units=len(train_data.class_indices), activation='softmax'))\n",
    "\n",
    "    cnn.compile(optimizer=Adam(learning_rate=0.001),metrics=['accuracy'],loss='categorical_crossentropy') #Adam(learning_rate=0.0005) 'adam'\n",
    "    # cnn.compile(optimizer=Nadam(learning_rate=0.001), loss='categorical_crossentropy', metrics=['accuracy'])\n",
    "    "
   ]
  },
  {
   "cell_type": "code",
   "execution_count": 75,
   "id": "ec1f2400-6d2f-4dcd-9166-6ddb17c644ab",
   "metadata": {},
   "outputs": [
    {
     "name": "stdout",
     "output_type": "stream",
     "text": [
      "Model does not exists\n"
     ]
    }
   ],
   "source": [
    "if True :#not os.path.exists(model_file) :\n",
    "    print('Model does not exists')\n",
    "\n",
    "    cnn = Sequential()\n",
    "    \n",
    "    cnn.add(Conv2D(filters=8,kernel_size=(10,10), padding='valid', activation='relu' ,input_shape=(res[0],res[1],3)))#, kernel_regularizer=l2(0.001))\n",
    "    #cnn.add(BatchNormalization())\n",
    "    #cnn.add(Activation('relu'))\n",
    "    #cnn.add(MaxPool2D(pool_size=(2,2)))#, strides=2))\n",
    "\n",
    "    cnn.add(Conv2D(filters=16,kernel_size=(7,7), padding='same', activation='relu'))#, kernel_regularizer=l2(0.001))\n",
    "    #cnn.add(BatchNormalization())\n",
    "    #cnn.add(Activation('relu'))\n",
    "    #cnn.add(MaxPool2D(pool_size=(2,2)))#, strides=2))\n",
    "\n",
    "    cnn.add(Conv2D(filters=32, kernel_size=(5,5), padding='same', activation='relu'))#, kernel_regularizer=l2(0.001))\n",
    "    cnn.add(MaxPool2D(pool_size=(2,2)))\n",
    "    #cnn.add(BatchNormalization())\n",
    "    #cnn.add(Activation('relu'))\n",
    "\n",
    "    #cnn.add(Conv2D(filters=64, kernel_size=(5,5), padding='same', activation='relu'))#, kernel_regularizer=l2(0.001))\n",
    "    #cnn.add(BatchNormalization())\n",
    "    \n",
    "    cnn.add(Conv2D(filters=64, kernel_size=(3,3),  padding='same', activation='relu'))#, kernel_regularizer=l2(0.001))\n",
    "    #cnn.add(BatchNormalization())\n",
    "    #cnn.add(Activation('relu'))\n",
    "    cnn.add(MaxPool2D(pool_size=(2,2)))#, strides=2))\n",
    "\n",
    "    cnn.add(Conv2D(filters=128, kernel_size=(3,3), strides=2, padding='same', activation='relu'))#, kernel_regularizer=l2(0.001))\n",
    "    #cnn.add(BatchNormalization())\n",
    "    #cnn.add(Activation('relu'))\n",
    "    cnn.add(MaxPool2D(pool_size=(2,2))) #, strides=2))\n",
    "\n",
    "    cnn.add(Conv2D(filters=128, kernel_size=(3,3), strides=2, activation='relu',  padding='same'))#, kernel_regularizer=l2(0.001)))\n",
    "    #cnn.add(BatchNormalization())\n",
    "    #cnn.add(Activation('relu'))\n",
    "    cnn.add(MaxPool2D(pool_size=(2,2)))#, strides=2))\n",
    "\n",
    "    cnn.add(Flatten())\n",
    "    cnn.add(Dense(128, activation='relu'))\n",
    "\n",
    "    cnn.add(Dropout(rate= 0.3)) #0.2\n",
    "\n",
    "    cnn.add(Dense(units=len(train_data.class_indices), activation='softmax'))\n",
    "\n",
    "    cnn.compile(optimizer=Adam(learning_rate=0.0001),metrics=['accuracy'],loss='categorical_crossentropy') #Adam(learning_rate=0.0005) 'adam'\n",
    "    # cnn.compile(optimizer=Nadam(learning_rate=0.001), loss='categorical_crossentropy', metrics=['accuracy'])\n",
    "    "
   ]
  },
  {
   "cell_type": "markdown",
   "id": "4f153704-52c9-459b-aabc-9683b3af4c8f",
   "metadata": {},
   "source": [
    "### Print model summary"
   ]
  },
  {
   "cell_type": "code",
   "execution_count": 77,
   "id": "693c076a-75c4-44a3-ab43-54e9058cf057",
   "metadata": {},
   "outputs": [
    {
     "name": "stdout",
     "output_type": "stream",
     "text": [
      "Model: \"sequential_1\"\n",
      "_________________________________________________________________\n",
      " Layer (type)                Output Shape              Param #   \n",
      "=================================================================\n",
      " conv2d_6 (Conv2D)           (None, 215, 215, 8)       2408      \n",
      "                                                                 \n",
      " conv2d_7 (Conv2D)           (None, 215, 215, 16)      6288      \n",
      "                                                                 \n",
      " conv2d_8 (Conv2D)           (None, 215, 215, 32)      12832     \n",
      "                                                                 \n",
      " max_pooling2d_4 (MaxPooling  (None, 107, 107, 32)     0         \n",
      " 2D)                                                             \n",
      "                                                                 \n",
      " conv2d_9 (Conv2D)           (None, 107, 107, 64)      18496     \n",
      "                                                                 \n",
      " max_pooling2d_5 (MaxPooling  (None, 53, 53, 64)       0         \n",
      " 2D)                                                             \n",
      "                                                                 \n",
      " conv2d_10 (Conv2D)          (None, 27, 27, 128)       73856     \n",
      "                                                                 \n",
      " max_pooling2d_6 (MaxPooling  (None, 13, 13, 128)      0         \n",
      " 2D)                                                             \n",
      "                                                                 \n",
      " conv2d_11 (Conv2D)          (None, 7, 7, 128)         147584    \n",
      "                                                                 \n",
      " max_pooling2d_7 (MaxPooling  (None, 3, 3, 128)        0         \n",
      " 2D)                                                             \n",
      "                                                                 \n",
      " flatten_1 (Flatten)         (None, 1152)              0         \n",
      "                                                                 \n",
      " dense_2 (Dense)             (None, 128)               147584    \n",
      "                                                                 \n",
      " dropout_1 (Dropout)         (None, 128)               0         \n",
      "                                                                 \n",
      " dense_3 (Dense)             (None, 20)                2580      \n",
      "                                                                 \n",
      "=================================================================\n",
      "Total params: 411,628\n",
      "Trainable params: 411,628\n",
      "Non-trainable params: 0\n",
      "_________________________________________________________________\n"
     ]
    }
   ],
   "source": [
    "cnn.summary()"
   ]
  },
  {
   "cell_type": "markdown",
   "id": "3cf89259-5407-449b-a92b-46902d5e665e",
   "metadata": {},
   "source": [
    "### Train the model on the dataset"
   ]
  },
  {
   "cell_type": "code",
   "execution_count": 79,
   "id": "bdc12a93-b73c-4f24-a9c0-8937d5607545",
   "metadata": {},
   "outputs": [
    {
     "name": "stdout",
     "output_type": "stream",
     "text": [
      "Epoch 1/100\n",
      "101/101 [==============================] - 194s 2s/step - loss: 2.9899 - accuracy: 0.0627 - val_loss: 2.9725 - val_accuracy: 0.0700 - lr: 1.0000e-04\n",
      "Epoch 2/100\n",
      "101/101 [==============================] - 191s 2s/step - loss: 2.8536 - accuracy: 0.1004 - val_loss: 2.6290 - val_accuracy: 0.1400 - lr: 1.0000e-04\n",
      "Epoch 3/100\n",
      "101/101 [==============================] - 192s 2s/step - loss: 2.6442 - accuracy: 0.1833 - val_loss: 2.4159 - val_accuracy: 0.2200 - lr: 1.0000e-04\n",
      "Epoch 4/100\n",
      "101/101 [==============================] - 209s 2s/step - loss: 2.4748 - accuracy: 0.2394 - val_loss: 2.2497 - val_accuracy: 0.2800 - lr: 1.0000e-04\n",
      "Epoch 5/100\n",
      "101/101 [==============================] - 213s 2s/step - loss: 2.3599 - accuracy: 0.2578 - val_loss: 2.0834 - val_accuracy: 0.3700 - lr: 1.0000e-04\n",
      "Epoch 6/100\n",
      "101/101 [==============================] - 205s 2s/step - loss: 2.2245 - accuracy: 0.3176 - val_loss: 1.9806 - val_accuracy: 0.3900 - lr: 1.0000e-04\n",
      "Epoch 7/100\n",
      "101/101 [==============================] - 191s 2s/step - loss: 2.1272 - accuracy: 0.3404 - val_loss: 1.9080 - val_accuracy: 0.4300 - lr: 1.0000e-04\n",
      "Epoch 8/100\n",
      "101/101 [==============================] - 197s 2s/step - loss: 2.0583 - accuracy: 0.3753 - val_loss: 1.7700 - val_accuracy: 0.4700 - lr: 1.0000e-04\n",
      "Epoch 9/100\n",
      "101/101 [==============================] - 186s 2s/step - loss: 2.0251 - accuracy: 0.3666 - val_loss: 1.7361 - val_accuracy: 0.4500 - lr: 1.0000e-04\n",
      "Epoch 10/100\n",
      "101/101 [==============================] - 194s 2s/step - loss: 1.9824 - accuracy: 0.3825 - val_loss: 1.7030 - val_accuracy: 0.4600 - lr: 1.0000e-04\n",
      "Epoch 11/100\n",
      "101/101 [==============================] - 192s 2s/step - loss: 1.9329 - accuracy: 0.3937 - val_loss: 1.7261 - val_accuracy: 0.4500 - lr: 1.0000e-04\n",
      "Epoch 12/100\n",
      "101/101 [==============================] - 195s 2s/step - loss: 1.8691 - accuracy: 0.4190 - val_loss: 1.5778 - val_accuracy: 0.5100 - lr: 1.0000e-04\n",
      "Epoch 13/100\n",
      "101/101 [==============================] - 195s 2s/step - loss: 1.8186 - accuracy: 0.4317 - val_loss: 1.5121 - val_accuracy: 0.5400 - lr: 1.0000e-04\n",
      "Epoch 14/100\n",
      "101/101 [==============================] - 201s 2s/step - loss: 1.7771 - accuracy: 0.4398 - val_loss: 1.4940 - val_accuracy: 0.5400 - lr: 1.0000e-04\n",
      "Epoch 15/100\n",
      "101/101 [==============================] - 197s 2s/step - loss: 1.7087 - accuracy: 0.4663 - val_loss: 1.4277 - val_accuracy: 0.5300 - lr: 1.0000e-04\n",
      "Epoch 16/100\n",
      "101/101 [==============================] - 199s 2s/step - loss: 1.6919 - accuracy: 0.4623 - val_loss: 1.4260 - val_accuracy: 0.5900 - lr: 1.0000e-04\n",
      "Epoch 17/100\n",
      "101/101 [==============================] - 196s 2s/step - loss: 1.6463 - accuracy: 0.4819 - val_loss: 1.3926 - val_accuracy: 0.5800 - lr: 1.0000e-04\n",
      "Epoch 18/100\n",
      "101/101 [==============================] - 191s 2s/step - loss: 1.5963 - accuracy: 0.5019 - val_loss: 1.3241 - val_accuracy: 0.5600 - lr: 1.0000e-04\n",
      "Epoch 19/100\n",
      "101/101 [==============================] - 203s 2s/step - loss: 1.5974 - accuracy: 0.5019 - val_loss: 1.2214 - val_accuracy: 0.6500 - lr: 1.0000e-04\n",
      "Epoch 20/100\n",
      "101/101 [==============================] - 195s 2s/step - loss: 1.5759 - accuracy: 0.5153 - val_loss: 1.2218 - val_accuracy: 0.6500 - lr: 1.0000e-04\n",
      "Epoch 21/100\n",
      "101/101 [==============================] - 182s 2s/step - loss: 1.5174 - accuracy: 0.5240 - val_loss: 1.1886 - val_accuracy: 0.7200 - lr: 1.0000e-04\n",
      "Epoch 22/100\n",
      "101/101 [==============================] - 193s 2s/step - loss: 1.4725 - accuracy: 0.5355 - val_loss: 1.1805 - val_accuracy: 0.6400 - lr: 1.0000e-04\n",
      "Epoch 23/100\n",
      "101/101 [==============================] - 194s 2s/step - loss: 1.4549 - accuracy: 0.5424 - val_loss: 1.1494 - val_accuracy: 0.6200 - lr: 1.0000e-04\n",
      "Epoch 24/100\n",
      "101/101 [==============================] - 188s 2s/step - loss: 1.4093 - accuracy: 0.5614 - val_loss: 1.1316 - val_accuracy: 0.6900 - lr: 1.0000e-04\n",
      "Epoch 25/100\n",
      "101/101 [==============================] - 194s 2s/step - loss: 1.3905 - accuracy: 0.5580 - val_loss: 1.1297 - val_accuracy: 0.6500 - lr: 1.0000e-04\n",
      "Epoch 26/100\n",
      "101/101 [==============================] - 197s 2s/step - loss: 1.3754 - accuracy: 0.5655 - val_loss: 1.0616 - val_accuracy: 0.7100 - lr: 1.0000e-04\n",
      "Epoch 27/100\n",
      "101/101 [==============================] - 183s 2s/step - loss: 1.4027 - accuracy: 0.5592 - val_loss: 1.1088 - val_accuracy: 0.6900 - lr: 1.0000e-04\n",
      "Epoch 28/100\n",
      "101/101 [==============================] - 195s 2s/step - loss: 1.3630 - accuracy: 0.5673 - val_loss: 1.0557 - val_accuracy: 0.7100 - lr: 1.0000e-04\n",
      "Epoch 29/100\n",
      "101/101 [==============================] - 194s 2s/step - loss: 1.2788 - accuracy: 0.6026 - val_loss: 1.0336 - val_accuracy: 0.6500 - lr: 1.0000e-04\n",
      "Epoch 30/100\n",
      "101/101 [==============================] - 188s 2s/step - loss: 1.2855 - accuracy: 0.5901 - val_loss: 0.9995 - val_accuracy: 0.6900 - lr: 1.0000e-04\n",
      "Epoch 31/100\n",
      "101/101 [==============================] - 187s 2s/step - loss: 1.2730 - accuracy: 0.6082 - val_loss: 0.9934 - val_accuracy: 0.6900 - lr: 1.0000e-04\n",
      "Epoch 32/100\n",
      "101/101 [==============================] - 191s 2s/step - loss: 1.2408 - accuracy: 0.6141 - val_loss: 0.9358 - val_accuracy: 0.7300 - lr: 1.0000e-04\n",
      "Epoch 33/100\n",
      "101/101 [==============================] - 192s 2s/step - loss: 1.2437 - accuracy: 0.6082 - val_loss: 0.9428 - val_accuracy: 0.7400 - lr: 1.0000e-04\n",
      "Epoch 34/100\n",
      "101/101 [==============================] - 192s 2s/step - loss: 1.1874 - accuracy: 0.6340 - val_loss: 0.8528 - val_accuracy: 0.7600 - lr: 1.0000e-04\n",
      "Epoch 35/100\n",
      "101/101 [==============================] - 192s 2s/step - loss: 1.1797 - accuracy: 0.6272 - val_loss: 0.8929 - val_accuracy: 0.7300 - lr: 1.0000e-04\n",
      "Epoch 36/100\n",
      "101/101 [==============================] - 187s 2s/step - loss: 1.1705 - accuracy: 0.6315 - val_loss: 0.8363 - val_accuracy: 0.7500 - lr: 1.0000e-04\n",
      "Epoch 37/100\n",
      "101/101 [==============================] - 192s 2s/step - loss: 1.1683 - accuracy: 0.6344 - val_loss: 0.8231 - val_accuracy: 0.7600 - lr: 1.0000e-04\n",
      "Epoch 38/100\n",
      "101/101 [==============================] - 197s 2s/step - loss: 1.1583 - accuracy: 0.6368 - val_loss: 0.8003 - val_accuracy: 0.7700 - lr: 1.0000e-04\n",
      "Epoch 39/100\n",
      "101/101 [==============================] - 954s 10s/step - loss: 1.1112 - accuracy: 0.6521 - val_loss: 0.8052 - val_accuracy: 0.7300 - lr: 1.0000e-04\n",
      "Epoch 40/100\n",
      "101/101 [==============================] - 189s 2s/step - loss: 1.0969 - accuracy: 0.6571 - val_loss: 0.7463 - val_accuracy: 0.7800 - lr: 1.0000e-04\n",
      "Epoch 41/100\n",
      "101/101 [==============================] - 192s 2s/step - loss: 1.0939 - accuracy: 0.6627 - val_loss: 0.7955 - val_accuracy: 0.7100 - lr: 1.0000e-04\n",
      "Epoch 42/100\n",
      "101/101 [==============================] - 190s 2s/step - loss: 1.0801 - accuracy: 0.6674 - val_loss: 0.7166 - val_accuracy: 0.7900 - lr: 1.0000e-04\n",
      "Epoch 43/100\n",
      "101/101 [==============================] - 185s 2s/step - loss: 1.0539 - accuracy: 0.6761 - val_loss: 0.6978 - val_accuracy: 0.7700 - lr: 1.0000e-04\n",
      "Epoch 44/100\n",
      "101/101 [==============================] - 199s 2s/step - loss: 1.0341 - accuracy: 0.6730 - val_loss: 0.7470 - val_accuracy: 0.7700 - lr: 1.0000e-04\n",
      "Epoch 45/100\n",
      "101/101 [==============================] - 265s 3s/step - loss: 1.0396 - accuracy: 0.6811 - val_loss: 0.7305 - val_accuracy: 0.7600 - lr: 1.0000e-04\n",
      "Epoch 46/100\n",
      "101/101 [==============================] - 196s 2s/step - loss: 1.0493 - accuracy: 0.6646 - val_loss: 0.7037 - val_accuracy: 0.7700 - lr: 1.0000e-04\n",
      "Epoch 47/100\n",
      "101/101 [==============================] - 194s 2s/step - loss: 1.0334 - accuracy: 0.6696 - val_loss: 0.7051 - val_accuracy: 0.8000 - lr: 1.0000e-04\n",
      "Epoch 48/100\n",
      "101/101 [==============================] - 190s 2s/step - loss: 0.9675 - accuracy: 0.6845 - val_loss: 0.6580 - val_accuracy: 0.7700 - lr: 1.0000e-04\n",
      "Epoch 49/100\n",
      "101/101 [==============================] - 186s 2s/step - loss: 0.9691 - accuracy: 0.6880 - val_loss: 0.6267 - val_accuracy: 0.8400 - lr: 1.0000e-04\n",
      "Epoch 50/100\n",
      "101/101 [==============================] - 191s 2s/step - loss: 0.9912 - accuracy: 0.6923 - val_loss: 0.6300 - val_accuracy: 0.8200 - lr: 1.0000e-04\n",
      "Epoch 51/100\n",
      "101/101 [==============================] - 194s 2s/step - loss: 0.9557 - accuracy: 0.6911 - val_loss: 0.6285 - val_accuracy: 0.8000 - lr: 1.0000e-04\n",
      "Epoch 52/100\n",
      "101/101 [==============================] - 186s 2s/step - loss: 0.9605 - accuracy: 0.6976 - val_loss: 0.6417 - val_accuracy: 0.8100 - lr: 1.0000e-04\n",
      "Epoch 53/100\n",
      "101/101 [==============================] - 191s 2s/step - loss: 0.9587 - accuracy: 0.6983 - val_loss: 0.6411 - val_accuracy: 0.8100 - lr: 1.0000e-04\n",
      "Epoch 54/100\n",
      "101/101 [==============================] - 190s 2s/step - loss: 0.9370 - accuracy: 0.6964 - val_loss: 0.6067 - val_accuracy: 0.8000 - lr: 1.0000e-04\n",
      "Epoch 55/100\n",
      "101/101 [==============================] - 187s 2s/step - loss: 0.9013 - accuracy: 0.7182 - val_loss: 0.6058 - val_accuracy: 0.8300 - lr: 1.0000e-04\n",
      "Epoch 56/100\n",
      "101/101 [==============================] - 190s 2s/step - loss: 0.9242 - accuracy: 0.7135 - val_loss: 0.6126 - val_accuracy: 0.8200 - lr: 1.0000e-04\n",
      "Epoch 57/100\n",
      "101/101 [==============================] - 190s 2s/step - loss: 0.8893 - accuracy: 0.7151 - val_loss: 0.5576 - val_accuracy: 0.8700 - lr: 1.0000e-04\n",
      "Epoch 58/100\n",
      "101/101 [==============================] - 182s 2s/step - loss: 0.8877 - accuracy: 0.7179 - val_loss: 0.5492 - val_accuracy: 0.8300 - lr: 1.0000e-04\n",
      "Epoch 59/100\n",
      "101/101 [==============================] - 188s 2s/step - loss: 0.8651 - accuracy: 0.7300 - val_loss: 0.5382 - val_accuracy: 0.8300 - lr: 1.0000e-04\n",
      "Epoch 60/100\n",
      "101/101 [==============================] - 1003s 10s/step - loss: 0.8610 - accuracy: 0.7219 - val_loss: 0.5946 - val_accuracy: 0.8000 - lr: 1.0000e-04\n",
      "Epoch 61/100\n",
      "101/101 [==============================] - 186s 2s/step - loss: 0.8359 - accuracy: 0.7369 - val_loss: 0.5670 - val_accuracy: 0.8200 - lr: 1.0000e-04\n",
      "Epoch 62/100\n",
      "101/101 [==============================] - 192s 2s/step - loss: 0.8635 - accuracy: 0.7229 - val_loss: 0.5813 - val_accuracy: 0.7900 - lr: 1.0000e-04\n",
      "Epoch 63/100\n",
      "101/101 [==============================] - 186s 2s/step - loss: 0.8372 - accuracy: 0.7341 - val_loss: 0.5503 - val_accuracy: 0.8400 - lr: 1.0000e-04\n",
      "Epoch 64/100\n",
      "101/101 [==============================] - 187s 2s/step - loss: 0.8533 - accuracy: 0.7329 - val_loss: 0.5480 - val_accuracy: 0.8300 - lr: 1.0000e-04\n"
     ]
    },
    {
     "data": {
      "text/plain": [
       "<keras.callbacks.History at 0x223fbf4d600>"
      ]
     },
     "execution_count": 79,
     "metadata": {},
     "output_type": "execute_result"
    }
   ],
   "source": [
    "#early_stop = EarlyStopping(monitor='val_loss', patience = 5)\n",
    "lr_scheduler = ReduceLROnPlateau(monitor='loss', factor=0.5, patience=5, min_lr=1e-6)\n",
    "early_stopping = EarlyStopping(monitor='val_loss', patience=5, restore_best_weights=True)\n",
    "\n",
    "\n",
    "cnn.fit(train_data, epochs=100, validation_data=test_data, callbacks=[lr_scheduler, early_stopping])"
   ]
  },
  {
   "cell_type": "markdown",
   "id": "4427a733-1889-4c92-a8b6-abedd90760f4",
   "metadata": {},
   "source": [
    "### Save model"
   ]
  },
  {
   "cell_type": "code",
   "execution_count": 89,
   "id": "bd3e7930-7d31-4643-8487-62ed7d5f77e8",
   "metadata": {},
   "outputs": [
    {
     "name": "stderr",
     "output_type": "stream",
     "text": [
      "WARNING:absl:Found untraced functions such as _jit_compiled_convolution_op, _jit_compiled_convolution_op, _jit_compiled_convolution_op, _jit_compiled_convolution_op, _jit_compiled_convolution_op while saving (showing 5 of 6). These functions will not be directly callable after loading.\n"
     ]
    },
    {
     "name": "stdout",
     "output_type": "stream",
     "text": [
      "INFO:tensorflow:Assets written to: ram://34b9d973-3955-4ebf-8558-0310ce5577c4/assets\n"
     ]
    },
    {
     "name": "stderr",
     "output_type": "stream",
     "text": [
      "INFO:tensorflow:Assets written to: ram://34b9d973-3955-4ebf-8558-0310ce5577c4/assets\n"
     ]
    },
    {
     "data": {
      "text/plain": [
       "['C:\\\\Users\\\\jocl0\\\\Project1\\\\model\\\\CNN_img_gen_train_aug_wonder.joblib']"
      ]
     },
     "execution_count": 89,
     "metadata": {},
     "output_type": "execute_result"
    }
   ],
   "source": [
    "#joblib.dump(cnn, \"C:\\\\Users\\\\jocl0\\\\Project1\\\\model\\\\CNN_aug_wonder.joblib\")\n",
    "cnn.save(\"C:\\\\Users\\\\jocl0\\\\Project1\\\\model\\\\CNN_aug_wonder.keras\")\n",
    "#joblib.dump(img_gen_train, \"C:\\\\Users\\\\jocl0\\\\Project1\\\\model\\\\CNN_img_gen_train_aug_wonder.joblib\")"
   ]
  },
  {
   "cell_type": "markdown",
   "id": "4e947298-5111-4275-804f-03076998401b",
   "metadata": {},
   "source": [
    "### Viusalize metrics"
   ]
  },
  {
   "cell_type": "code",
   "execution_count": 91,
   "id": "e6f4ba7b-ac39-4872-9355-f74a6e6433d2",
   "metadata": {},
   "outputs": [
    {
     "data": {
      "text/html": [
       "<div>\n",
       "<style scoped>\n",
       "    .dataframe tbody tr th:only-of-type {\n",
       "        vertical-align: middle;\n",
       "    }\n",
       "\n",
       "    .dataframe tbody tr th {\n",
       "        vertical-align: top;\n",
       "    }\n",
       "\n",
       "    .dataframe thead th {\n",
       "        text-align: right;\n",
       "    }\n",
       "</style>\n",
       "<table border=\"1\" class=\"dataframe\">\n",
       "  <thead>\n",
       "    <tr style=\"text-align: right;\">\n",
       "      <th></th>\n",
       "      <th>loss</th>\n",
       "      <th>accuracy</th>\n",
       "      <th>val_loss</th>\n",
       "      <th>val_accuracy</th>\n",
       "      <th>lr</th>\n",
       "    </tr>\n",
       "  </thead>\n",
       "  <tbody>\n",
       "    <tr>\n",
       "      <th>1</th>\n",
       "      <td>2.989889</td>\n",
       "      <td>0.062656</td>\n",
       "      <td>2.972465</td>\n",
       "      <td>0.07</td>\n",
       "      <td>0.0001</td>\n",
       "    </tr>\n",
       "    <tr>\n",
       "      <th>2</th>\n",
       "      <td>2.853572</td>\n",
       "      <td>0.100374</td>\n",
       "      <td>2.628975</td>\n",
       "      <td>0.14</td>\n",
       "      <td>0.0001</td>\n",
       "    </tr>\n",
       "    <tr>\n",
       "      <th>3</th>\n",
       "      <td>2.644246</td>\n",
       "      <td>0.183292</td>\n",
       "      <td>2.415884</td>\n",
       "      <td>0.22</td>\n",
       "      <td>0.0001</td>\n",
       "    </tr>\n",
       "    <tr>\n",
       "      <th>4</th>\n",
       "      <td>2.474757</td>\n",
       "      <td>0.239401</td>\n",
       "      <td>2.249665</td>\n",
       "      <td>0.28</td>\n",
       "      <td>0.0001</td>\n",
       "    </tr>\n",
       "    <tr>\n",
       "      <th>5</th>\n",
       "      <td>2.359864</td>\n",
       "      <td>0.257793</td>\n",
       "      <td>2.083382</td>\n",
       "      <td>0.37</td>\n",
       "      <td>0.0001</td>\n",
       "    </tr>\n",
       "    <tr>\n",
       "      <th>...</th>\n",
       "      <td>...</td>\n",
       "      <td>...</td>\n",
       "      <td>...</td>\n",
       "      <td>...</td>\n",
       "      <td>...</td>\n",
       "    </tr>\n",
       "    <tr>\n",
       "      <th>60</th>\n",
       "      <td>0.861035</td>\n",
       "      <td>0.721945</td>\n",
       "      <td>0.594578</td>\n",
       "      <td>0.80</td>\n",
       "      <td>0.0001</td>\n",
       "    </tr>\n",
       "    <tr>\n",
       "      <th>61</th>\n",
       "      <td>0.835866</td>\n",
       "      <td>0.736908</td>\n",
       "      <td>0.566975</td>\n",
       "      <td>0.82</td>\n",
       "      <td>0.0001</td>\n",
       "    </tr>\n",
       "    <tr>\n",
       "      <th>62</th>\n",
       "      <td>0.863482</td>\n",
       "      <td>0.722880</td>\n",
       "      <td>0.581288</td>\n",
       "      <td>0.79</td>\n",
       "      <td>0.0001</td>\n",
       "    </tr>\n",
       "    <tr>\n",
       "      <th>63</th>\n",
       "      <td>0.837225</td>\n",
       "      <td>0.734102</td>\n",
       "      <td>0.550309</td>\n",
       "      <td>0.84</td>\n",
       "      <td>0.0001</td>\n",
       "    </tr>\n",
       "    <tr>\n",
       "      <th>64</th>\n",
       "      <td>0.853267</td>\n",
       "      <td>0.732855</td>\n",
       "      <td>0.548048</td>\n",
       "      <td>0.83</td>\n",
       "      <td>0.0001</td>\n",
       "    </tr>\n",
       "  </tbody>\n",
       "</table>\n",
       "<p>64 rows × 5 columns</p>\n",
       "</div>"
      ],
      "text/plain": [
       "        loss  accuracy  val_loss  val_accuracy      lr\n",
       "1   2.989889  0.062656  2.972465          0.07  0.0001\n",
       "2   2.853572  0.100374  2.628975          0.14  0.0001\n",
       "3   2.644246  0.183292  2.415884          0.22  0.0001\n",
       "4   2.474757  0.239401  2.249665          0.28  0.0001\n",
       "5   2.359864  0.257793  2.083382          0.37  0.0001\n",
       "..       ...       ...       ...           ...     ...\n",
       "60  0.861035  0.721945  0.594578          0.80  0.0001\n",
       "61  0.835866  0.736908  0.566975          0.82  0.0001\n",
       "62  0.863482  0.722880  0.581288          0.79  0.0001\n",
       "63  0.837225  0.734102  0.550309          0.84  0.0001\n",
       "64  0.853267  0.732855  0.548048          0.83  0.0001\n",
       "\n",
       "[64 rows x 5 columns]"
      ]
     },
     "execution_count": 91,
     "metadata": {},
     "output_type": "execute_result"
    }
   ],
   "source": [
    "metrics = pd.DataFrame(cnn.history.history, index=list(range(1,len(cnn.history.history['accuracy'])+1)))\n",
    "metrics"
   ]
  },
  {
   "cell_type": "code",
   "execution_count": 93,
   "id": "24d5826e-3abd-4484-8837-d7a39a2f8fbd",
   "metadata": {},
   "outputs": [
    {
     "data": {
      "text/plain": [
       "<Axes: >"
      ]
     },
     "execution_count": 93,
     "metadata": {},
     "output_type": "execute_result"
    },
    {
     "data": {
      "image/png": "[encoded data removed]",
      "text/plain": [
       "<Figure size 640x480 with 1 Axes>"
      ]
     },
     "metadata": {},
     "output_type": "display_data"
    }
   ],
   "source": [
    "metrics[['loss','val_loss']].plot()"
   ]
  },
  {
   "cell_type": "code",
   "execution_count": 95,
   "id": "0f96dbef-6c83-4f24-835b-dba06dcab945",
   "metadata": {},
   "outputs": [
    {
     "data": {
      "text/plain": [
       "<Axes: >"
      ]
     },
     "execution_count": 95,
     "metadata": {},
     "output_type": "execute_result"
    },
    {
     "data": {
      "image/png": "[encoded data removed]",
      "text/plain": [
       "<Figure size 640x480 with 1 Axes>"
      ]
     },
     "metadata": {},
     "output_type": "display_data"
    }
   ],
   "source": [
    "metrics[['accuracy','val_accuracy']].plot()"
   ]
  },
  {
   "cell_type": "markdown",
   "id": "ddb79435-6e70-4216-91e7-e1e0fa79ecc4",
   "metadata": {},
   "source": [
    "### Model's performance on test data"
   ]
  },
  {
   "cell_type": "code",
   "execution_count": 119,
   "id": "3c33bf5b-0ed3-4146-8584-6f9f59c32f01",
   "metadata": {},
   "outputs": [
    {
     "name": "stdout",
     "output_type": "stream",
     "text": [
      "100/100 [==============================] - 2s 20ms/step\n"
     ]
    }
   ],
   "source": [
    "y_pred = cnn.predict(test_data)"
   ]
  },
  {
   "cell_type": "code",
   "execution_count": 121,
   "id": "e3795bfa-3002-4efe-b496-2b17bc717a0d",
   "metadata": {},
   "outputs": [],
   "source": [
    "#test_data.reset()\n",
    "\n",
    "y_true = []\n",
    "for i in range(len(test_data)):\n",
    "    y_true.extend(np.argmax(test_data[i][1], axis=1))\n",
    "\n",
    "y_true = np.array(y_true)"
   ]
  },
  {
   "cell_type": "code",
   "execution_count": 123,
   "id": "e121cc68-67f3-4032-b11f-ccf0a9a84467",
   "metadata": {},
   "outputs": [],
   "source": [
    "# Convert predictions to class labels\n",
    "y_pred_classes = np.argmax(y_pred, axis=1)"
   ]
  },
  {
   "cell_type": "code",
   "execution_count": 125,
   "id": "1293100b-cda4-4e44-a9d6-1068e7ac413d",
   "metadata": {},
   "outputs": [
    {
     "name": "stdout",
     "output_type": "stream",
     "text": [
      "                            precision    recall  f1-score   support\n",
      "\n",
      "           ABBOTTS BABBLER       0.33      0.80      0.47         5\n",
      "             ABBOTTS BOOBY       0.80      0.80      0.80         5\n",
      "ABYSSINIAN GROUND HORNBILL       0.75      0.60      0.67         5\n",
      "     AFRICAN CROWNED CRANE       0.62      1.00      0.77         5\n",
      "    AFRICAN EMERALD CUCKOO       1.00      0.60      0.75         5\n",
      "         AFRICAN FIREFINCH       1.00      1.00      1.00         5\n",
      "    AFRICAN OYSTER CATCHER       0.75      0.60      0.67         5\n",
      "     AFRICAN PIED HORNBILL       1.00      1.00      1.00         5\n",
      "       AFRICAN PYGMY GOOSE       1.00      0.80      0.89         5\n",
      "                 ALBATROSS       1.00      0.80      0.89         5\n",
      "            ALBERTS TOWHEE       1.00      0.60      0.75         5\n",
      "      ALEXANDRINE PARAKEET       1.00      1.00      1.00         5\n",
      "             ALPINE CHOUGH       1.00      1.00      1.00         5\n",
      "     ALTAMIRA YELLOWTHROAT       0.83      1.00      0.91         5\n",
      "           AMERICAN AVOCET       0.80      0.80      0.80         5\n",
      "          AMERICAN BITTERN       1.00      1.00      1.00         5\n",
      "             AMERICAN COOT       0.80      0.80      0.80         5\n",
      "         AMERICAN FLAMINGO       1.00      1.00      1.00         5\n",
      "        AMERICAN GOLDFINCH       1.00      1.00      1.00         5\n",
      "          AMERICAN KESTREL       1.00      0.40      0.57         5\n",
      "\n",
      "                  accuracy                           0.83       100\n",
      "                 macro avg       0.88      0.83      0.84       100\n",
      "              weighted avg       0.88      0.83      0.84       100\n",
      "\n"
     ]
    }
   ],
   "source": [
    "print(classification_report(y_true, y_pred_classes, \n",
    "                            target_names=test_data.class_indices.keys()))"
   ]
  },
  {
   "cell_type": "markdown",
   "id": "86f4c98e-9e0e-427e-ba13-be9f487ddc85",
   "metadata": {},
   "source": [
    "### Model's performance on validation data"
   ]
  },
  {
   "cell_type": "code",
   "execution_count": 139,
   "id": "bdee30a7-1762-47ed-801d-d53ce34dc85c",
   "metadata": {},
   "outputs": [
    {
     "name": "stdout",
     "output_type": "stream",
     "text": [
      "100/100 [==============================] - 3s 25ms/step\n"
     ]
    }
   ],
   "source": [
    "y_pred_val = cnn.predict(val_data)"
   ]
  },
  {
   "cell_type": "code",
   "execution_count": 141,
   "id": "bafd9bff-324f-466b-bff9-26edc36b3979",
   "metadata": {},
   "outputs": [],
   "source": [
    "y_true_val = []\n",
    "for i in range(len(val_data)):\n",
    "    y_true_val.extend(np.argmax(val_data[i][1], axis=1))\n",
    "\n",
    "y_true_val = np.array(y_true_val)"
   ]
  },
  {
   "cell_type": "code",
   "execution_count": 143,
   "id": "265bf30a-b56d-434d-a4f3-ec9810a4a81b",
   "metadata": {},
   "outputs": [],
   "source": [
    "# Convert predictions to class labels\n",
    "y_pred_val_classes = np.argmax(y_pred_val, axis=1)"
   ]
  },
  {
   "cell_type": "code",
   "execution_count": 145,
   "id": "8168dae8-21b3-46e2-a79a-395f1c5eb319",
   "metadata": {},
   "outputs": [
    {
     "name": "stdout",
     "output_type": "stream",
     "text": [
      "                            precision    recall  f1-score   support\n",
      "\n",
      "           ABBOTTS BABBLER       0.45      1.00      0.62         5\n",
      "             ABBOTTS BOOBY       0.75      0.60      0.67         5\n",
      "ABYSSINIAN GROUND HORNBILL       0.80      0.80      0.80         5\n",
      "     AFRICAN CROWNED CRANE       0.83      1.00      0.91         5\n",
      "    AFRICAN EMERALD CUCKOO       1.00      1.00      1.00         5\n",
      "         AFRICAN FIREFINCH       0.83      1.00      0.91         5\n",
      "    AFRICAN OYSTER CATCHER       1.00      0.80      0.89         5\n",
      "     AFRICAN PIED HORNBILL       0.56      1.00      0.71         5\n",
      "       AFRICAN PYGMY GOOSE       1.00      0.80      0.89         5\n",
      "                 ALBATROSS       0.80      0.80      0.80         5\n",
      "            ALBERTS TOWHEE       1.00      0.80      0.89         5\n",
      "      ALEXANDRINE PARAKEET       1.00      1.00      1.00         5\n",
      "             ALPINE CHOUGH       1.00      0.40      0.57         5\n",
      "     ALTAMIRA YELLOWTHROAT       0.83      1.00      0.91         5\n",
      "           AMERICAN AVOCET       1.00      0.80      0.89         5\n",
      "          AMERICAN BITTERN       1.00      0.60      0.75         5\n",
      "             AMERICAN COOT       0.83      1.00      0.91         5\n",
      "         AMERICAN FLAMINGO       1.00      0.80      0.89         5\n",
      "        AMERICAN GOLDFINCH       1.00      1.00      1.00         5\n",
      "          AMERICAN KESTREL       1.00      0.40      0.57         5\n",
      "\n",
      "                  accuracy                           0.83       100\n",
      "                 macro avg       0.88      0.83      0.83       100\n",
      "              weighted avg       0.88      0.83      0.83       100\n",
      "\n"
     ]
    }
   ],
   "source": [
    "print(classification_report(y_true_val, y_pred_val_classes, \n",
    "                            target_names=val_data.class_indices.keys()))"
   ]
  },
  {
   "cell_type": "markdown",
   "id": "55ff23f9-0247-4414-a015-999a16d33209",
   "metadata": {},
   "source": [
    "### Making a prediction on new dataset"
   ]
  },
  {
   "cell_type": "code",
   "execution_count": 148,
   "id": "3841f00f-d627-47d1-9a3c-02dd73e2d9d2",
   "metadata": {},
   "outputs": [
    {
     "name": "stdout",
     "output_type": "stream",
     "text": [
      "6/6 [==============================] - 0s 21ms/step\n"
     ]
    }
   ],
   "source": [
    "y_pred_new = cnn.predict(pred_data)"
   ]
  },
  {
   "cell_type": "code",
   "execution_count": 164,
   "id": "93d863f4-c0d0-4ecc-9163-24561b021601",
   "metadata": {},
   "outputs": [
    {
     "data": {
      "text/plain": [
       "array([3, 3, 3, 3, 3, 1], dtype=int64)"
      ]
     },
     "execution_count": 164,
     "metadata": {},
     "output_type": "execute_result"
    }
   ],
   "source": [
    "# Convert predictions to class labels\n",
    "y_pred_new_classes = np.argmax(y_pred_new, axis=1)\n",
    "y_pred_new_classes"
   ]
  },
  {
   "cell_type": "code",
   "execution_count": null,
   "id": "e100dde5-2a10-4ab7-9418-159ad85802ad",
   "metadata": {},
   "outputs": [],
   "source": [
    "# Convert classes to keys\n",
    "train_labels = list(train_data.class_indices.keys())\n",
    "\n",
    "y_pred_new_classes_labels = list(map(lambda x: train_labels[x], y_pred_new_classes))\n",
    "y_pred_new_classes_labels"
   ]
  },
  {
   "cell_type": "code",
   "execution_count": null,
   "id": "fc29cac4-4465-4bfe-90c1-b273788bad9a",
   "metadata": {},
   "outputs": [],
   "source": [
    "for idx, file in enumerate(files['images2predict']) :\n",
    "    image = plt.imread(file) \n",
    "    plt.imshow(image)\n",
    "    plt.axis('off')\n",
    "    plt.title(f'Identified by CNN model as **{y_pred_new_classes_labels[idx]}**')\n",
    "    plt.show()"
   ]
  }
 ],
 "metadata": {
  "kernelspec": {
   "display_name": "Python [conda env:ABF]",
   "language": "python",
   "name": "conda-env-ABF-py"
  },
  "language_info": {
   "codemirror_mode": {
    "name": "ipython",
    "version": 3
   },
   "file_extension": ".py",
   "mimetype": "text/x-python",
   "name": "python",
   "nbconvert_exporter": "python",
   "pygments_lexer": "ipython3",
   "version": "3.10.13"
  }
 },
 "nbformat": 4,
 "nbformat_minor": 5
}
