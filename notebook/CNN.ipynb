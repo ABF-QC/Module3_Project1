{
 "cells": [
  {
   "cell_type": "markdown",
   "id": "3927ffd3-5c0a-49fb-ab59-ad54a5701f9e",
   "metadata": {},
   "source": [
    "### Loading necessary libraries"
   ]
  },
  {
   "cell_type": "code",
   "execution_count": 117,
   "id": "7f68d4db-5208-4d16-84ea-0485517c5c05",
   "metadata": {
    "execution": {
     "iopub.execute_input": "2025-03-21T19:29:13.556373Z",
     "iopub.status.busy": "2025-03-21T19:29:13.555593Z",
     "iopub.status.idle": "2025-03-21T19:29:13.580014Z",
     "shell.execute_reply": "2025-03-21T19:29:13.571341Z",
     "shell.execute_reply.started": "2025-03-21T19:29:13.556308Z"
    }
   },
   "outputs": [],
   "source": [
    "import os\n",
    "from pathlib import Path\n",
    "import pandas as pd\n",
    "import numpy as np\n",
    "import matplotlib.pyplot as plt\n",
    "from matplotlib.image import imread\n",
    "import seaborn as sns\n",
    "from PIL import Image\n",
    "import glob\n",
    "\n",
    "from tensorflow.keras.preprocessing.image import ImageDataGenerator\n",
    "from tensorflow.keras.models import Sequential\n",
    "from tensorflow.keras.layers import Conv2D, MaxPool2D, Flatten, Dense, Dropout\n",
    "from sklearn.metrics import classification_report\n",
    "\n",
    "from tensorflow.keras.callbacks import EarlyStopping\n",
    "\n",
    "import joblib"
   ]
  },
  {
   "cell_type": "markdown",
   "id": "afdf57b4-8827-4ed0-b5a8-8f80812da2c1",
   "metadata": {},
   "source": [
    "### Defining files' path"
   ]
  },
  {
   "cell_type": "code",
   "execution_count": 10,
   "id": "80a3edbe-0cdf-4e73-8779-481d600b34b3",
   "metadata": {
    "execution": {
     "iopub.execute_input": "2025-03-21T17:27:30.223780Z",
     "iopub.status.busy": "2025-03-21T17:27:30.219334Z",
     "iopub.status.idle": "2025-03-21T17:27:30.245292Z",
     "shell.execute_reply": "2025-03-21T17:27:30.243756Z",
     "shell.execute_reply.started": "2025-03-21T17:27:30.223675Z"
    }
   },
   "outputs": [],
   "source": [
    "data_dir = '../data/'\n",
    "model_dir = '../model/'\n",
    "\n",
    "dir_ = os.listdir(data_dir)\n",
    "\n",
    "model_file = model_dir + 'CNN.joblib'"
   ]
  },
  {
   "cell_type": "code",
   "execution_count": 11,
   "id": "a1d76610-4631-4f9b-9a02-bb203f75e65d",
   "metadata": {
    "execution": {
     "iopub.execute_input": "2025-03-21T17:27:33.135988Z",
     "iopub.status.busy": "2025-03-21T17:27:33.135454Z",
     "iopub.status.idle": "2025-03-21T17:27:33.159759Z",
     "shell.execute_reply": "2025-03-21T17:27:33.156566Z",
     "shell.execute_reply.started": "2025-03-21T17:27:33.135940Z"
    }
   },
   "outputs": [
    {
     "data": {
      "text/plain": [
       "['valid', 'train', 'test', 'images2predict']"
      ]
     },
     "execution_count": 11,
     "metadata": {},
     "output_type": "execute_result"
    }
   ],
   "source": [
    "dir_"
   ]
  },
  {
   "cell_type": "markdown",
   "id": "ba270b84-90d5-4bc7-b5de-9ae213d942e9",
   "metadata": {},
   "source": [
    "### Retrieving directories list"
   ]
  },
  {
   "cell_type": "code",
   "execution_count": 15,
   "id": "74a870c3-f8f8-4e47-a3e9-031da2e8cb89",
   "metadata": {
    "execution": {
     "iopub.execute_input": "2025-03-21T17:30:48.842330Z",
     "iopub.status.busy": "2025-03-21T17:30:48.841608Z",
     "iopub.status.idle": "2025-03-21T17:30:48.858907Z",
     "shell.execute_reply": "2025-03-21T17:30:48.857539Z",
     "shell.execute_reply.started": "2025-03-21T17:30:48.842271Z"
    }
   },
   "outputs": [],
   "source": [
    "all_dir = dict.fromkeys(dir_)\n",
    "\n",
    "for d in dir_ :\n",
    "    all_dir[d] = glob.glob(data_dir+d+'/*')"
   ]
  },
  {
   "cell_type": "markdown",
   "id": "59146fb6-f19b-4776-81a9-734ff255347c",
   "metadata": {
    "execution": {
     "iopub.execute_input": "2025-03-21T17:31:44.821382Z",
     "iopub.status.busy": "2025-03-21T17:31:44.818885Z",
     "iopub.status.idle": "2025-03-21T17:31:44.836700Z",
     "shell.execute_reply": "2025-03-21T17:31:44.833040Z",
     "shell.execute_reply.started": "2025-03-21T17:31:44.821252Z"
    }
   },
   "source": [
    "### Retrieving data files"
   ]
  },
  {
   "cell_type": "code",
   "execution_count": 80,
   "id": "432de302-d0e5-4522-bd10-c50651661b66",
   "metadata": {
    "execution": {
     "iopub.execute_input": "2025-03-21T18:22:06.404810Z",
     "iopub.status.busy": "2025-03-21T18:22:06.404274Z",
     "iopub.status.idle": "2025-03-21T18:22:06.440377Z",
     "shell.execute_reply": "2025-03-21T18:22:06.439526Z",
     "shell.execute_reply.started": "2025-03-21T18:22:06.404765Z"
    }
   },
   "outputs": [],
   "source": [
    "files = dict.fromkeys(dir_)\n",
    "\n",
    "for key in dict.fromkeys(dir_) :\n",
    "    files[key] = []\n",
    "    \n",
    "    for d in range(len(all_dir[key])) :\n",
    "\n",
    "        if key != 'images2predict' :\n",
    "            files[key].extend(glob.glob(all_dir[key][d]+'/*.jpg'))\n",
    "        else :\n",
    "            files[key].append(all_dir[key][d])\n"
   ]
  },
  {
   "cell_type": "markdown",
   "id": "9561d7d6-c8a5-44e3-b5a5-afcfd2dd9031",
   "metadata": {},
   "source": [
    "### Investigate dataset resolution distribution"
   ]
  },
  {
   "cell_type": "code",
   "execution_count": 84,
   "id": "11e4198e-9f83-4574-aec3-b5d2e04dc4c8",
   "metadata": {
    "execution": {
     "iopub.execute_input": "2025-03-21T18:22:37.774817Z",
     "iopub.status.busy": "2025-03-21T18:22:37.774293Z",
     "iopub.status.idle": "2025-03-21T18:22:41.625612Z",
     "shell.execute_reply": "2025-03-21T18:22:41.624614Z",
     "shell.execute_reply.started": "2025-03-21T18:22:37.774772Z"
    },
    "scrolled": true
   },
   "outputs": [
    {
     "name": "stdout",
     "output_type": "stream",
     "text": [
      "The average dimensions for images in the valid folder is (224, 224, 3)\n",
      "The maximum dimensions for images in the valid folder is (224, 224, 3)\n",
      "The mimimum dimensions for images in the valid folder is (224, 224, 3)\n",
      "The median dimensions for images in the valid folder is (np.float64(224.0), np.float64(224.0), np.float64(3.0))\n",
      "The 25th percentile dimensions for images in the valid folder is (np.float64(224.0), np.float64(224.0), np.float64(3.0))\n",
      "The 75th percentile dimensions for images in the valid folder is (np.float64(224.0), np.float64(224.0), np.float64(3.0))\n",
      "The 90th percentile dimensions for images in the valid folder is (np.float64(224.0), np.float64(224.0), np.float64(3.0))\n",
      "\n",
      "\n",
      "The average dimensions for images in the train folder is (224, 224, 3)\n",
      "The maximum dimensions for images in the train folder is (224, 224, 3)\n",
      "The mimimum dimensions for images in the train folder is (224, 224, 3)\n",
      "The median dimensions for images in the train folder is (np.float64(224.0), np.float64(224.0), np.float64(3.0))\n",
      "The 25th percentile dimensions for images in the train folder is (np.float64(224.0), np.float64(224.0), np.float64(3.0))\n",
      "The 75th percentile dimensions for images in the train folder is (np.float64(224.0), np.float64(224.0), np.float64(3.0))\n",
      "The 90th percentile dimensions for images in the train folder is (np.float64(224.0), np.float64(224.0), np.float64(3.0))\n",
      "\n",
      "\n",
      "The average dimensions for images in the test folder is (224, 224, 3)\n",
      "The maximum dimensions for images in the test folder is (224, 224, 3)\n",
      "The mimimum dimensions for images in the test folder is (224, 224, 3)\n",
      "The median dimensions for images in the test folder is (np.float64(224.0), np.float64(224.0), np.float64(3.0))\n",
      "The 25th percentile dimensions for images in the test folder is (np.float64(224.0), np.float64(224.0), np.float64(3.0))\n",
      "The 75th percentile dimensions for images in the test folder is (np.float64(224.0), np.float64(224.0), np.float64(3.0))\n",
      "The 90th percentile dimensions for images in the test folder is (np.float64(224.0), np.float64(224.0), np.float64(3.0))\n",
      "\n",
      "\n",
      "The average dimensions for images in the images2predict folder is (224, 224, 3)\n",
      "The maximum dimensions for images in the images2predict folder is (224, 224, 3)\n",
      "The mimimum dimensions for images in the images2predict folder is (224, 224, 3)\n",
      "The median dimensions for images in the images2predict folder is (np.float64(224.0), np.float64(224.0), np.float64(3.0))\n",
      "The 25th percentile dimensions for images in the images2predict folder is (np.float64(224.0), np.float64(224.0), np.float64(3.0))\n",
      "The 75th percentile dimensions for images in the images2predict folder is (np.float64(224.0), np.float64(224.0), np.float64(3.0))\n",
      "The 90th percentile dimensions for images in the images2predict folder is (np.float64(224.0), np.float64(224.0), np.float64(3.0))\n",
      "\n",
      "\n"
     ]
    }
   ],
   "source": [
    "for key in dict.fromkeys(dir_) :\n",
    "    # Empty shape list\n",
    "    shape = []\n",
    "\n",
    "    # Empty image list\n",
    "    image_un = []\n",
    "\n",
    "    for file in files[key] :\n",
    "        # Read image file\n",
    "        image = plt.imread(file)\n",
    "\n",
    "        # Add image to image list\n",
    "        image_un.append(image)\n",
    "\n",
    "        shape.append(image.shape)\n",
    "\n",
    "    # Sum the shape\n",
    "    shape_sum = tuple(map(sum, tuple(zip(*shape)))) \n",
    "    shape_median = tuple(np.percentile(dim, 50) for dim in zip(*shape))\n",
    "    shape_per25 = tuple(np.percentile(dim, 25) for dim in zip(*shape))\n",
    "    shape_per75 = tuple(np.percentile(dim, 75) for dim in zip(*shape))\n",
    "    shape_per90 = tuple(np.percentile(dim, 90) for dim in zip(*shape))\n",
    "    shape_min = tuple(map(min, tuple(zip(*shape))))\n",
    "    shape_max = tuple(map(max, tuple(zip(*shape))))\n",
    "\n",
    "    # Calcualting shape average\n",
    "    shape_avg = tuple( i // len(shape) for i in shape_sum)\n",
    "\n",
    "    # Print results\n",
    "    print(f'The average dimensions for images in the {key} folder is {shape_avg}')\n",
    "    print(f'The maximum dimensions for images in the {key} folder is {shape_max}')\n",
    "    print(f'The mimimum dimensions for images in the {key} folder is {shape_min}')\n",
    "    print(f'The median dimensions for images in the {key} folder is {shape_median}')\n",
    "    print(f'The 25th percentile dimensions for images in the {key} folder is {shape_per25}')\n",
    "    print(f'The 75th percentile dimensions for images in the {key} folder is {shape_per75}')\n",
    "    print(f'The 90th percentile dimensions for images in the {key} folder is {shape_per90}\\n\\n')"
   ]
  },
  {
   "cell_type": "markdown",
   "id": "5ba67fd6-1066-4802-bdfa-17ca3103f0da",
   "metadata": {},
   "source": [
    "### Defining the image resolution"
   ]
  },
  {
   "cell_type": "code",
   "execution_count": 85,
   "id": "c8fc5ea2-236e-40e6-b9a4-f4aa6739ad95",
   "metadata": {
    "execution": {
     "iopub.execute_input": "2025-03-21T18:34:41.266577Z",
     "iopub.status.busy": "2025-03-21T18:34:41.263449Z",
     "iopub.status.idle": "2025-03-21T18:34:41.281294Z",
     "shell.execute_reply": "2025-03-21T18:34:41.279766Z",
     "shell.execute_reply.started": "2025-03-21T18:34:41.266514Z"
    }
   },
   "outputs": [],
   "source": [
    "res = (224, 224)"
   ]
  },
  {
   "cell_type": "markdown",
   "id": "e369813a-6689-4b1b-965a-6f3d3b9c0730",
   "metadata": {},
   "source": [
    "### Image Augmentation and Scaling"
   ]
  },
  {
   "cell_type": "code",
   "execution_count": 86,
   "id": "ab7e2982-5b28-4d9e-8466-c5523136a8ba",
   "metadata": {
    "execution": {
     "iopub.execute_input": "2025-03-21T18:34:46.577499Z",
     "iopub.status.busy": "2025-03-21T18:34:46.576626Z",
     "iopub.status.idle": "2025-03-21T18:34:46.591073Z",
     "shell.execute_reply": "2025-03-21T18:34:46.588962Z",
     "shell.execute_reply.started": "2025-03-21T18:34:46.577426Z"
    }
   },
   "outputs": [],
   "source": [
    "img_gen = ImageDataGenerator(rescale=1./255)"
   ]
  },
  {
   "cell_type": "markdown",
   "id": "68836bf2-6ab1-49ef-82ff-6af7a6c4906c",
   "metadata": {},
   "source": [
    "### Apply Image augmentation and scaling to dataset"
   ]
  },
  {
   "cell_type": "code",
   "execution_count": 87,
   "id": "df3d69ed-9720-45fc-9b15-8d9edc632014",
   "metadata": {
    "execution": {
     "iopub.execute_input": "2025-03-21T18:40:44.211884Z",
     "iopub.status.busy": "2025-03-21T18:40:44.210997Z",
     "iopub.status.idle": "2025-03-21T18:40:44.400080Z",
     "shell.execute_reply": "2025-03-21T18:40:44.398833Z",
     "shell.execute_reply.started": "2025-03-21T18:40:44.211804Z"
    }
   },
   "outputs": [
    {
     "name": "stdout",
     "output_type": "stream",
     "text": [
      "Found 3208 images belonging to 20 classes.\n"
     ]
    },
    {
     "data": {
      "text/plain": [
       "{'ABBOTTS BABBLER': 0,\n",
       " 'ABBOTTS BOOBY': 1,\n",
       " 'ABYSSINIAN GROUND HORNBILL': 2,\n",
       " 'AFRICAN CROWNED CRANE': 3,\n",
       " 'AFRICAN EMERALD CUCKOO': 4,\n",
       " 'AFRICAN FIREFINCH': 5,\n",
       " 'AFRICAN OYSTER CATCHER': 6,\n",
       " 'AFRICAN PIED HORNBILL': 7,\n",
       " 'AFRICAN PYGMY GOOSE': 8,\n",
       " 'ALBATROSS': 9,\n",
       " 'ALBERTS TOWHEE': 10,\n",
       " 'ALEXANDRINE PARAKEET': 11,\n",
       " 'ALPINE CHOUGH': 12,\n",
       " 'ALTAMIRA YELLOWTHROAT': 13,\n",
       " 'AMERICAN AVOCET': 14,\n",
       " 'AMERICAN BITTERN': 15,\n",
       " 'AMERICAN COOT': 16,\n",
       " 'AMERICAN FLAMINGO': 17,\n",
       " 'AMERICAN GOLDFINCH': 18,\n",
       " 'AMERICAN KESTREL': 19}"
      ]
     },
     "execution_count": 87,
     "metadata": {},
     "output_type": "execute_result"
    }
   ],
   "source": [
    "train_data = img_gen.flow_from_directory(data_dir+'train',\n",
    "                                         target_size=res, \n",
    "                                         batch_size=64, \n",
    "                                         class_mode='categorical',\n",
    "                                         shuffle=True)\n",
    "\n",
    "train_data.class_indices"
   ]
  },
  {
   "cell_type": "code",
   "execution_count": 112,
   "id": "055fe509-0c5c-4fd3-a4e1-2edbd6ddf250",
   "metadata": {
    "execution": {
     "iopub.execute_input": "2025-03-21T19:19:47.493881Z",
     "iopub.status.busy": "2025-03-21T19:19:47.493344Z",
     "iopub.status.idle": "2025-03-21T19:19:47.542871Z",
     "shell.execute_reply": "2025-03-21T19:19:47.541710Z",
     "shell.execute_reply.started": "2025-03-21T19:19:47.493835Z"
    }
   },
   "outputs": [
    {
     "name": "stdout",
     "output_type": "stream",
     "text": [
      "Found 100 images belonging to 20 classes.\n"
     ]
    },
    {
     "data": {
      "text/plain": [
       "{'ABBOTTS BABBLER': 0,\n",
       " 'ABBOTTS BOOBY': 1,\n",
       " 'ABYSSINIAN GROUND HORNBILL': 2,\n",
       " 'AFRICAN CROWNED CRANE': 3,\n",
       " 'AFRICAN EMERALD CUCKOO': 4,\n",
       " 'AFRICAN FIREFINCH': 5,\n",
       " 'AFRICAN OYSTER CATCHER': 6,\n",
       " 'AFRICAN PIED HORNBILL': 7,\n",
       " 'AFRICAN PYGMY GOOSE': 8,\n",
       " 'ALBATROSS': 9,\n",
       " 'ALBERTS TOWHEE': 10,\n",
       " 'ALEXANDRINE PARAKEET': 11,\n",
       " 'ALPINE CHOUGH': 12,\n",
       " 'ALTAMIRA YELLOWTHROAT': 13,\n",
       " 'AMERICAN AVOCET': 14,\n",
       " 'AMERICAN BITTERN': 15,\n",
       " 'AMERICAN COOT': 16,\n",
       " 'AMERICAN FLAMINGO': 17,\n",
       " 'AMERICAN GOLDFINCH': 18,\n",
       " 'AMERICAN KESTREL': 19}"
      ]
     },
     "execution_count": 112,
     "metadata": {},
     "output_type": "execute_result"
    }
   ],
   "source": [
    "test_data = img_gen.flow_from_directory(data_dir+'test',\n",
    "                                       target_size=res, \n",
    "                                       batch_size=1, \n",
    "                                       shuffle=False,\n",
    "                                       class_mode='categorical')\n",
    "\n",
    "test_data.class_indices"
   ]
  },
  {
   "cell_type": "code",
   "execution_count": 91,
   "id": "b25b643a-0912-40a8-a395-82ce825bd49c",
   "metadata": {
    "execution": {
     "iopub.execute_input": "2025-03-21T18:44:42.585822Z",
     "iopub.status.busy": "2025-03-21T18:44:42.583421Z",
     "iopub.status.idle": "2025-03-21T18:44:42.645588Z",
     "shell.execute_reply": "2025-03-21T18:44:42.644281Z",
     "shell.execute_reply.started": "2025-03-21T18:44:42.585713Z"
    }
   },
   "outputs": [
    {
     "name": "stdout",
     "output_type": "stream",
     "text": [
      "Found 100 images belonging to 20 classes.\n"
     ]
    },
    {
     "data": {
      "text/plain": [
       "{'ABBOTTS BABBLER': 0,\n",
       " 'ABBOTTS BOOBY': 1,\n",
       " 'ABYSSINIAN GROUND HORNBILL': 2,\n",
       " 'AFRICAN CROWNED CRANE': 3,\n",
       " 'AFRICAN EMERALD CUCKOO': 4,\n",
       " 'AFRICAN FIREFINCH': 5,\n",
       " 'AFRICAN OYSTER CATCHER': 6,\n",
       " 'AFRICAN PIED HORNBILL': 7,\n",
       " 'AFRICAN PYGMY GOOSE': 8,\n",
       " 'ALBATROSS': 9,\n",
       " 'ALBERTS TOWHEE': 10,\n",
       " 'ALEXANDRINE PARAKEET': 11,\n",
       " 'ALPINE CHOUGH': 12,\n",
       " 'ALTAMIRA YELLOWTHROAT': 13,\n",
       " 'AMERICAN AVOCET': 14,\n",
       " 'AMERICAN BITTERN': 15,\n",
       " 'AMERICAN COOT': 16,\n",
       " 'AMERICAN FLAMINGO': 17,\n",
       " 'AMERICAN GOLDFINCH': 18,\n",
       " 'AMERICAN KESTREL': 19}"
      ]
     },
     "execution_count": 91,
     "metadata": {},
     "output_type": "execute_result"
    }
   ],
   "source": [
    "test_data = img_gen.flow_from_directory(data_dir+'valid',\n",
    "                                       target_size=res, \n",
    "                                       batch_size=1, \n",
    "                                       shuffle=False,\n",
    "                                       class_mode='categorical')\n",
    "\n",
    "test_data.class_indices"
   ]
  },
  {
   "cell_type": "code",
   "execution_count": 103,
   "id": "ab18ba48-ccb5-4808-b5ca-c6ab4dca053f",
   "metadata": {
    "execution": {
     "iopub.execute_input": "2025-03-21T19:09:22.912997Z",
     "iopub.status.busy": "2025-03-21T19:09:22.911313Z",
     "iopub.status.idle": "2025-03-21T19:09:22.956435Z",
     "shell.execute_reply": "2025-03-21T19:09:22.954864Z",
     "shell.execute_reply.started": "2025-03-21T19:09:22.912934Z"
    }
   },
   "outputs": [
    {
     "name": "stdout",
     "output_type": "stream",
     "text": [
      "Found 6 images belonging to 1 classes.\n"
     ]
    },
    {
     "data": {
      "text/plain": [
       "{'dummy': 0}"
      ]
     },
     "execution_count": 103,
     "metadata": {},
     "output_type": "execute_result"
    }
   ],
   "source": [
    "pred_data = img_gen.flow_from_directory(data_dir+'images2predict',\n",
    "                                       target_size=res, \n",
    "                                       batch_size=1, \n",
    "                                       shuffle=False,\n",
    "                                       class_mode=None)\n",
    "\n",
    "pred_data.class_indices"
   ]
  },
  {
   "cell_type": "markdown",
   "id": "64b28e48-5e5b-4576-be11-12a7adb23008",
   "metadata": {},
   "source": [
    "### Load model if it already exists"
   ]
  },
  {
   "cell_type": "code",
   "execution_count": 104,
   "id": "c275ea8a-291e-4f8a-b62c-8db449b288cf",
   "metadata": {
    "execution": {
     "iopub.execute_input": "2025-03-21T19:09:25.334946Z",
     "iopub.status.busy": "2025-03-21T19:09:25.331349Z",
     "iopub.status.idle": "2025-03-21T19:09:25.345939Z",
     "shell.execute_reply": "2025-03-21T19:09:25.343039Z",
     "shell.execute_reply.started": "2025-03-21T19:09:25.334888Z"
    }
   },
   "outputs": [],
   "source": [
    "if os.path.exists(model_file) :\n",
    "    cnn = joblib.load('../model/CNN.joblib')\n",
    "    img_gen = joblib.load('../model/CNN_img_gen.joblib')\n",
    "    print('Model exists')"
   ]
  },
  {
   "cell_type": "markdown",
   "id": "b95e1da0-fbb6-4340-91de-439cab57aaaa",
   "metadata": {},
   "source": [
    "### Define model if it does not already exist"
   ]
  },
  {
   "cell_type": "code",
   "execution_count": 119,
   "id": "1b21ad2c-6a4a-4a71-b7fb-7044f1c7ce1e",
   "metadata": {
    "execution": {
     "iopub.execute_input": "2025-03-21T19:36:00.178636Z",
     "iopub.status.busy": "2025-03-21T19:36:00.178019Z",
     "iopub.status.idle": "2025-03-21T19:36:00.193819Z",
     "shell.execute_reply": "2025-03-21T19:36:00.192292Z",
     "shell.execute_reply.started": "2025-03-21T19:36:00.178582Z"
    }
   },
   "outputs": [],
   "source": [
    "if not os.path.exists(model_file) :\n",
    "    print('Model does not exists')\n",
    "\n",
    "    cnn = Sequential()\n",
    "\n",
    "    cnn.add(Conv2D(filters=8,kernel_size=(5,5), padding='valid',activation='relu',input_shape=(res[0],res[1],3)))\n",
    "\n",
    "    cnn.add(MaxPool2D(strides=2))\n",
    "\n",
    "    cnn.add(Conv2D(filters=16,kernel_size=(3,3), padding='same',activation='relu'))\n",
    "\n",
    "    cnn.add(MaxPool2D(strides=1))\n",
    "\n",
    "    cnn.add(Flatten())\n",
    "    cnn.add(Dense(8, activation='relu'))\n",
    "\n",
    "    cnn.add(Dropout(rate= 0.1)) \n",
    "\n",
    "    cnn.add(Dense(units=len(train_data.class_indices), activation='softmax'))\n",
    "\n",
    "    cnn.compile(optimizer='adam',metrics=['accuracy'],loss='categorical_crossentropy')\n",
    "    "
   ]
  },
  {
   "cell_type": "markdown",
   "id": "4f153704-52c9-459b-aabc-9683b3af4c8f",
   "metadata": {},
   "source": [
    "### Print model summary"
   ]
  },
  {
   "cell_type": "code",
   "execution_count": 120,
   "id": "693c076a-75c4-44a3-ab43-54e9058cf057",
   "metadata": {
    "execution": {
     "iopub.execute_input": "2025-03-21T19:36:03.031428Z",
     "iopub.status.busy": "2025-03-21T19:36:03.030438Z",
     "iopub.status.idle": "2025-03-21T19:36:03.083533Z",
     "shell.execute_reply": "2025-03-21T19:36:03.081948Z",
     "shell.execute_reply.started": "2025-03-21T19:36:03.031374Z"
    }
   },
   "outputs": [
    {
     "data": {
      "text/html": [
       "<pre style=\"white-space:pre;overflow-x:auto;line-height:normal;font-family:Menlo,'DejaVu Sans Mono',consolas,'Courier New',monospace\"><span style=\"font-weight: bold\">Model: \"sequential_2\"</span>\n",
       "</pre>\n"
      ],
      "text/plain": [
       "\u001b[1mModel: \"sequential_2\"\u001b[0m\n"
      ]
     },
     "metadata": {},
     "output_type": "display_data"
    },
    {
     "data": {
      "text/html": [
       "<pre style=\"white-space:pre;overflow-x:auto;line-height:normal;font-family:Menlo,'DejaVu Sans Mono',consolas,'Courier New',monospace\">┏━━━━━━━━━━━━━━━━━━━━━━━━━━━━━━━━━┳━━━━━━━━━━━━━━━━━━━━━━━━┳━━━━━━━━━━━━━━━┓\n",
       "┃<span style=\"font-weight: bold\"> Layer (type)                    </span>┃<span style=\"font-weight: bold\"> Output Shape           </span>┃<span style=\"font-weight: bold\">       Param # </span>┃\n",
       "┡━━━━━━━━━━━━━━━━━━━━━━━━━━━━━━━━━╇━━━━━━━━━━━━━━━━━━━━━━━━╇━━━━━━━━━━━━━━━┩\n",
       "│ conv2d_3 (<span style=\"color: #0087ff; text-decoration-color: #0087ff\">Conv2D</span>)               │ (<span style=\"color: #00d7ff; text-decoration-color: #00d7ff\">None</span>, <span style=\"color: #00af00; text-decoration-color: #00af00\">220</span>, <span style=\"color: #00af00; text-decoration-color: #00af00\">220</span>, <span style=\"color: #00af00; text-decoration-color: #00af00\">8</span>)    │           <span style=\"color: #00af00; text-decoration-color: #00af00\">608</span> │\n",
       "├─────────────────────────────────┼────────────────────────┼───────────────┤\n",
       "│ max_pooling2d_2 (<span style=\"color: #0087ff; text-decoration-color: #0087ff\">MaxPooling2D</span>)  │ (<span style=\"color: #00d7ff; text-decoration-color: #00d7ff\">None</span>, <span style=\"color: #00af00; text-decoration-color: #00af00\">110</span>, <span style=\"color: #00af00; text-decoration-color: #00af00\">110</span>, <span style=\"color: #00af00; text-decoration-color: #00af00\">8</span>)    │             <span style=\"color: #00af00; text-decoration-color: #00af00\">0</span> │\n",
       "├─────────────────────────────────┼────────────────────────┼───────────────┤\n",
       "│ flatten_2 (<span style=\"color: #0087ff; text-decoration-color: #0087ff\">Flatten</span>)             │ (<span style=\"color: #00d7ff; text-decoration-color: #00d7ff\">None</span>, <span style=\"color: #00af00; text-decoration-color: #00af00\">96800</span>)          │             <span style=\"color: #00af00; text-decoration-color: #00af00\">0</span> │\n",
       "├─────────────────────────────────┼────────────────────────┼───────────────┤\n",
       "│ dense_4 (<span style=\"color: #0087ff; text-decoration-color: #0087ff\">Dense</span>)                 │ (<span style=\"color: #00d7ff; text-decoration-color: #00d7ff\">None</span>, <span style=\"color: #00af00; text-decoration-color: #00af00\">8</span>)              │       <span style=\"color: #00af00; text-decoration-color: #00af00\">774,408</span> │\n",
       "├─────────────────────────────────┼────────────────────────┼───────────────┤\n",
       "│ dropout_2 (<span style=\"color: #0087ff; text-decoration-color: #0087ff\">Dropout</span>)             │ (<span style=\"color: #00d7ff; text-decoration-color: #00d7ff\">None</span>, <span style=\"color: #00af00; text-decoration-color: #00af00\">8</span>)              │             <span style=\"color: #00af00; text-decoration-color: #00af00\">0</span> │\n",
       "├─────────────────────────────────┼────────────────────────┼───────────────┤\n",
       "│ dense_5 (<span style=\"color: #0087ff; text-decoration-color: #0087ff\">Dense</span>)                 │ (<span style=\"color: #00d7ff; text-decoration-color: #00d7ff\">None</span>, <span style=\"color: #00af00; text-decoration-color: #00af00\">20</span>)             │           <span style=\"color: #00af00; text-decoration-color: #00af00\">180</span> │\n",
       "└─────────────────────────────────┴────────────────────────┴───────────────┘\n",
       "</pre>\n"
      ],
      "text/plain": [
       "┏━━━━━━━━━━━━━━━━━━━━━━━━━━━━━━━━━┳━━━━━━━━━━━━━━━━━━━━━━━━┳━━━━━━━━━━━━━━━┓\n",
       "┃\u001b[1m \u001b[0m\u001b[1mLayer (type)                   \u001b[0m\u001b[1m \u001b[0m┃\u001b[1m \u001b[0m\u001b[1mOutput Shape          \u001b[0m\u001b[1m \u001b[0m┃\u001b[1m \u001b[0m\u001b[1m      Param #\u001b[0m\u001b[1m \u001b[0m┃\n",
       "┡━━━━━━━━━━━━━━━━━━━━━━━━━━━━━━━━━╇━━━━━━━━━━━━━━━━━━━━━━━━╇━━━━━━━━━━━━━━━┩\n",
       "│ conv2d_3 (\u001b[38;5;33mConv2D\u001b[0m)               │ (\u001b[38;5;45mNone\u001b[0m, \u001b[38;5;34m220\u001b[0m, \u001b[38;5;34m220\u001b[0m, \u001b[38;5;34m8\u001b[0m)    │           \u001b[38;5;34m608\u001b[0m │\n",
       "├─────────────────────────────────┼────────────────────────┼───────────────┤\n",
       "│ max_pooling2d_2 (\u001b[38;5;33mMaxPooling2D\u001b[0m)  │ (\u001b[38;5;45mNone\u001b[0m, \u001b[38;5;34m110\u001b[0m, \u001b[38;5;34m110\u001b[0m, \u001b[38;5;34m8\u001b[0m)    │             \u001b[38;5;34m0\u001b[0m │\n",
       "├─────────────────────────────────┼────────────────────────┼───────────────┤\n",
       "│ flatten_2 (\u001b[38;5;33mFlatten\u001b[0m)             │ (\u001b[38;5;45mNone\u001b[0m, \u001b[38;5;34m96800\u001b[0m)          │             \u001b[38;5;34m0\u001b[0m │\n",
       "├─────────────────────────────────┼────────────────────────┼───────────────┤\n",
       "│ dense_4 (\u001b[38;5;33mDense\u001b[0m)                 │ (\u001b[38;5;45mNone\u001b[0m, \u001b[38;5;34m8\u001b[0m)              │       \u001b[38;5;34m774,408\u001b[0m │\n",
       "├─────────────────────────────────┼────────────────────────┼───────────────┤\n",
       "│ dropout_2 (\u001b[38;5;33mDropout\u001b[0m)             │ (\u001b[38;5;45mNone\u001b[0m, \u001b[38;5;34m8\u001b[0m)              │             \u001b[38;5;34m0\u001b[0m │\n",
       "├─────────────────────────────────┼────────────────────────┼───────────────┤\n",
       "│ dense_5 (\u001b[38;5;33mDense\u001b[0m)                 │ (\u001b[38;5;45mNone\u001b[0m, \u001b[38;5;34m20\u001b[0m)             │           \u001b[38;5;34m180\u001b[0m │\n",
       "└─────────────────────────────────┴────────────────────────┴───────────────┘\n"
      ]
     },
     "metadata": {},
     "output_type": "display_data"
    },
    {
     "data": {
      "text/html": [
       "<pre style=\"white-space:pre;overflow-x:auto;line-height:normal;font-family:Menlo,'DejaVu Sans Mono',consolas,'Courier New',monospace\"><span style=\"font-weight: bold\"> Total params: </span><span style=\"color: #00af00; text-decoration-color: #00af00\">2,325,590</span> (8.87 MB)\n",
       "</pre>\n"
      ],
      "text/plain": [
       "\u001b[1m Total params: \u001b[0m\u001b[38;5;34m2,325,590\u001b[0m (8.87 MB)\n"
      ]
     },
     "metadata": {},
     "output_type": "display_data"
    },
    {
     "data": {
      "text/html": [
       "<pre style=\"white-space:pre;overflow-x:auto;line-height:normal;font-family:Menlo,'DejaVu Sans Mono',consolas,'Courier New',monospace\"><span style=\"font-weight: bold\"> Trainable params: </span><span style=\"color: #00af00; text-decoration-color: #00af00\">775,196</span> (2.96 MB)\n",
       "</pre>\n"
      ],
      "text/plain": [
       "\u001b[1m Trainable params: \u001b[0m\u001b[38;5;34m775,196\u001b[0m (2.96 MB)\n"
      ]
     },
     "metadata": {},
     "output_type": "display_data"
    },
    {
     "data": {
      "text/html": [
       "<pre style=\"white-space:pre;overflow-x:auto;line-height:normal;font-family:Menlo,'DejaVu Sans Mono',consolas,'Courier New',monospace\"><span style=\"font-weight: bold\"> Non-trainable params: </span><span style=\"color: #00af00; text-decoration-color: #00af00\">0</span> (0.00 B)\n",
       "</pre>\n"
      ],
      "text/plain": [
       "\u001b[1m Non-trainable params: \u001b[0m\u001b[38;5;34m0\u001b[0m (0.00 B)\n"
      ]
     },
     "metadata": {},
     "output_type": "display_data"
    },
    {
     "data": {
      "text/html": [
       "<pre style=\"white-space:pre;overflow-x:auto;line-height:normal;font-family:Menlo,'DejaVu Sans Mono',consolas,'Courier New',monospace\"><span style=\"font-weight: bold\"> Optimizer params: </span><span style=\"color: #00af00; text-decoration-color: #00af00\">1,550,394</span> (5.91 MB)\n",
       "</pre>\n"
      ],
      "text/plain": [
       "\u001b[1m Optimizer params: \u001b[0m\u001b[38;5;34m1,550,394\u001b[0m (5.91 MB)\n"
      ]
     },
     "metadata": {},
     "output_type": "display_data"
    }
   ],
   "source": [
    "cnn.summary()"
   ]
  },
  {
   "cell_type": "markdown",
   "id": "3cf89259-5407-449b-a92b-46902d5e665e",
   "metadata": {},
   "source": [
    "### Train the model on the dataset"
   ]
  },
  {
   "cell_type": "code",
   "execution_count": 121,
   "id": "bdc12a93-b73c-4f24-a9c0-8937d5607545",
   "metadata": {
    "execution": {
     "iopub.execute_input": "2025-03-21T19:36:06.581540Z",
     "iopub.status.busy": "2025-03-21T19:36:06.580980Z",
     "iopub.status.idle": "2025-03-21T19:38:08.699483Z",
     "shell.execute_reply": "2025-03-21T19:38:08.697813Z",
     "shell.execute_reply.started": "2025-03-21T19:36:06.581491Z"
    }
   },
   "outputs": [
    {
     "name": "stdout",
     "output_type": "stream",
     "text": [
      "Epoch 1/10\n",
      "\u001b[1m51/51\u001b[0m \u001b[32m━━━━━━━━━━━━━━━━━━━━\u001b[0m\u001b[37m\u001b[0m \u001b[1m61s\u001b[0m 1s/step - accuracy: 0.0570 - loss: 2.9940 - val_accuracy: 0.0500 - val_loss: 2.9960\n",
      "Epoch 2/10\n",
      "\u001b[1m51/51\u001b[0m \u001b[32m━━━━━━━━━━━━━━━━━━━━\u001b[0m\u001b[37m\u001b[0m \u001b[1m61s\u001b[0m 1s/step - accuracy: 0.0601 - loss: 2.9938 - val_accuracy: 0.0500 - val_loss: 2.9961\n"
     ]
    },
    {
     "data": {
      "text/plain": [
       "<keras.src.callbacks.history.History at 0x76d8fc70ddf0>"
      ]
     },
     "execution_count": 121,
     "metadata": {},
     "output_type": "execute_result"
    }
   ],
   "source": [
    "early_stop = EarlyStopping(monitor='val_loss', patience =1)\n",
    "\n",
    "cnn.fit(train_data, epochs=10, validation_data=test_data, callbacks=[early_stop])"
   ]
  },
  {
   "cell_type": "markdown",
   "id": "4427a733-1889-4c92-a8b6-abedd90760f4",
   "metadata": {},
   "source": [
    "### Save model"
   ]
  },
  {
   "cell_type": "code",
   "execution_count": 118,
   "id": "bd3e7930-7d31-4643-8487-62ed7d5f77e8",
   "metadata": {
    "execution": {
     "iopub.execute_input": "2025-03-21T19:29:19.107649Z",
     "iopub.status.busy": "2025-03-21T19:29:19.105941Z",
     "iopub.status.idle": "2025-03-21T19:29:19.271490Z",
     "shell.execute_reply": "2025-03-21T19:29:19.269681Z",
     "shell.execute_reply.started": "2025-03-21T19:29:19.107569Z"
    }
   },
   "outputs": [
    {
     "ename": "NameError",
     "evalue": "name 'scaler' is not defined",
     "output_type": "error",
     "traceback": [
      "\u001b[0;31m---------------------------------------------------------------------------\u001b[0m",
      "\u001b[0;31mNameError\u001b[0m                                 Traceback (most recent call last)",
      "Cell \u001b[0;32mIn[118], line 2\u001b[0m\n\u001b[1;32m      1\u001b[0m joblib\u001b[38;5;241m.\u001b[39mdump(cnn, \u001b[38;5;124m\"\u001b[39m\u001b[38;5;124m../model/CNN.joblib\u001b[39m\u001b[38;5;124m\"\u001b[39m)\n\u001b[0;32m----> 2\u001b[0m joblib\u001b[38;5;241m.\u001b[39mdump(\u001b[43mscaler\u001b[49m, \u001b[38;5;124m\"\u001b[39m\u001b[38;5;124m../model/CNN_scaler.joblib\u001b[39m\u001b[38;5;124m\"\u001b[39m)\n",
      "\u001b[0;31mNameError\u001b[0m: name 'scaler' is not defined"
     ]
    }
   ],
   "source": [
    "joblib.dump(cnn, \"../model/CNN.joblib\")\n",
    "joblib.dump(scaler, \"../model/CNN_scaler.joblib\")"
   ]
  }
 ],
 "metadata": {
  "kernelspec": {
   "display_name": "graph",
   "language": "python",
   "name": "graph"
  },
  "language_info": {
   "codemirror_mode": {
    "name": "ipython",
    "version": 3
   },
   "file_extension": ".py",
   "mimetype": "text/x-python",
   "name": "python",
   "nbconvert_exporter": "python",
   "pygments_lexer": "ipython3",
   "version": "3.12.7"
  }
 },
 "nbformat": 4,
 "nbformat_minor": 5
}
