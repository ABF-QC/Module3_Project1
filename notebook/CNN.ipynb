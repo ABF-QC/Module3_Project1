{
 "cells": [
  {
   "cell_type": "markdown",
   "id": "3927ffd3-5c0a-49fb-ab59-ad54a5701f9e",
   "metadata": {},
   "source": [
    "### Loading necessary libraries"
   ]
  },
  {
   "cell_type": "code",
   "execution_count": 1,
   "id": "7f68d4db-5208-4d16-84ea-0485517c5c05",
   "metadata": {
    "execution": {
     "iopub.execute_input": "2025-03-21T16:09:23.752878Z",
     "iopub.status.busy": "2025-03-21T16:09:23.751968Z",
     "iopub.status.idle": "2025-03-21T16:09:24.163140Z",
     "shell.execute_reply": "2025-03-21T16:09:24.161239Z",
     "shell.execute_reply.started": "2025-03-21T16:09:23.752820Z"
    }
   },
   "outputs": [],
   "source": [
    "import os\n",
    "from pathlib import Path\n",
    "import pandas as pd\n",
    "import numpy as np\n",
    "import matplotlib.pyplot as plt\n",
    "from matplotlib.image import imread\n",
    "import seaborn as sns\n",
    "from PIL import Image\n",
    "import glob\n",
    "\n",
    "from tensorflow.keras.preprocessing.image import ImageDataGenerator\n",
    "from tensorflow.keras.models import Sequential\n",
    "from tensorflow.keras.layers import Conv2D, MaxPool2D, Flatten, Dense, Dropout\n",
    "from sklearn.metrics import classification_report\n",
    "\n",
    "from tensorflow.keras.callbacks import EarlyStopping\n",
    "\n",
    "import joblib"
   ]
  },
  {
   "cell_type": "markdown",
   "id": "afdf57b4-8827-4ed0-b5a8-8f80812da2c1",
   "metadata": {},
   "source": [
    "### Defining files' path"
   ]
  },
  {
   "cell_type": "code",
   "execution_count": 3,
   "id": "80a3edbe-0cdf-4e73-8779-481d600b34b3",
   "metadata": {
    "execution": {
     "iopub.execute_input": "2025-03-21T16:20:56.328485Z",
     "iopub.status.busy": "2025-03-21T16:20:56.327783Z",
     "iopub.status.idle": "2025-03-21T16:20:56.348044Z",
     "shell.execute_reply": "2025-03-21T16:20:56.344435Z",
     "shell.execute_reply.started": "2025-03-21T16:20:56.328435Z"
    }
   },
   "outputs": [],
   "source": [
    "data_dir = '../data/'\n",
    "model_dir = '../model/'\n",
    "\n",
    "val_dir = data_dir + 'valid/'\n",
    "test_dir = data_dir + 'test/'\n",
    "train_dir = data_dir + 'train/'\n",
    "\n",
    "model_file = model_dir + 'CNN.joblib'"
   ]
  },
  {
   "cell_type": "markdown",
   "id": "64b28e48-5e5b-4576-be11-12a7adb23008",
   "metadata": {},
   "source": [
    "### Load model if it already exists"
   ]
  },
  {
   "cell_type": "code",
   "execution_count": 4,
   "id": "c275ea8a-291e-4f8a-b62c-8db449b288cf",
   "metadata": {
    "execution": {
     "iopub.execute_input": "2025-03-21T16:20:58.321715Z",
     "iopub.status.busy": "2025-03-21T16:20:58.321121Z",
     "iopub.status.idle": "2025-03-21T16:20:58.338327Z",
     "shell.execute_reply": "2025-03-21T16:20:58.331210Z",
     "shell.execute_reply.started": "2025-03-21T16:20:58.321665Z"
    }
   },
   "outputs": [],
   "source": [
    "if os.path.exists(model_file) :\n",
    "    cnn = joblib.load('../model/CNN.joblib')\n",
    "    scaler = joblib.load('../model/CNN_scaler.joblib')\n",
    "    print('Model exists')"
   ]
  },
  {
   "cell_type": "markdown",
   "id": "b95e1da0-fbb6-4340-91de-439cab57aaaa",
   "metadata": {},
   "source": [
    "### Define model if it does not already exist"
   ]
  },
  {
   "cell_type": "code",
   "execution_count": 9,
   "id": "1b21ad2c-6a4a-4a71-b7fb-7044f1c7ce1e",
   "metadata": {
    "execution": {
     "iopub.execute_input": "2025-03-21T16:23:29.093420Z",
     "iopub.status.busy": "2025-03-21T16:23:29.092858Z",
     "iopub.status.idle": "2025-03-21T16:23:29.110537Z",
     "shell.execute_reply": "2025-03-21T16:23:29.109173Z",
     "shell.execute_reply.started": "2025-03-21T16:23:29.093375Z"
    }
   },
   "outputs": [
    {
     "name": "stdout",
     "output_type": "stream",
     "text": [
      "Model does not exists\n"
     ]
    }
   ],
   "source": [
    "if not os.path.exists(model_file) :\n",
    "    print('Model does not exists')\n",
    "    "
   ]
  },
  {
   "cell_type": "markdown",
   "id": "3cf89259-5407-449b-a92b-46902d5e665e",
   "metadata": {},
   "source": [
    "### Train the model on the dataset"
   ]
  },
  {
   "cell_type": "code",
   "execution_count": null,
   "id": "bdc12a93-b73c-4f24-a9c0-8937d5607545",
   "metadata": {},
   "outputs": [],
   "source": []
  },
  {
   "cell_type": "markdown",
   "id": "4427a733-1889-4c92-a8b6-abedd90760f4",
   "metadata": {},
   "source": [
    "### Save model"
   ]
  },
  {
   "cell_type": "code",
   "execution_count": null,
   "id": "bd3e7930-7d31-4643-8487-62ed7d5f77e8",
   "metadata": {},
   "outputs": [],
   "source": [
    "joblib.dump(cnn, \"../model/CNN.joblib\")\n",
    "joblib.dump(scaler, \"../model/CNN_scaler.joblib\")"
   ]
  }
 ],
 "metadata": {
  "kernelspec": {
   "display_name": "graph",
   "language": "python",
   "name": "graph"
  },
  "language_info": {
   "codemirror_mode": {
    "name": "ipython",
    "version": 3
   },
   "file_extension": ".py",
   "mimetype": "text/x-python",
   "name": "python",
   "nbconvert_exporter": "python",
   "pygments_lexer": "ipython3",
   "version": "3.12.7"
  }
 },
 "nbformat": 4,
 "nbformat_minor": 5
}
